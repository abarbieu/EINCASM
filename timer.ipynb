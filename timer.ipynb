{
 "cells": [
  {
   "cell_type": "code",
   "execution_count": 1,
   "metadata": {},
   "outputs": [],
   "source": [
    "import timeit"
   ]
  },
  {
   "cell_type": "code",
   "execution_count": 20,
   "metadata": {},
   "outputs": [
    {
     "name": "stdout",
     "output_type": "stream",
     "text": [
      "grow_old time: 0.0013811915693319559\n",
      "grow_muscle time: 0.0005479471806659906\n"
     ]
    }
   ],
   "source": [
    "setup_code = \"\"\"\n",
    "import torch\n",
    "import importlib\n",
    "import grow_muscle\n",
    "importlib.reload(grow_muscle)\n",
    "rads_batch = torch.randn(10000,5)\n",
    "rad_deltas_batch = torch.randn(10000,5)\n",
    "capital_batch = torch.randn(10000)\n",
    "efficiency_batch = torch.randn(10000)\n",
    "\"\"\"\n",
    "num = 1000\n",
    "\n",
    "test_code1 = \"\"\"\n",
    "grow_muscle.grow_old(rads_batch, rad_deltas_batch, capital_batch, efficiency_batch)\n",
    "\"\"\"\n",
    "\n",
    "times1 = timeit.repeat(setup=setup_code, stmt=test_code1, repeat=3, number=num)\n",
    "\n",
    "test_code2 = \"\"\"\n",
    "grow_muscle.grow_muscle(rads_batch, rad_deltas_batch, capital_batch, efficiency_batch)\n",
    "\"\"\"\n",
    "\n",
    "times2 = timeit.repeat(setup=setup_code, stmt=test_code2, repeat=3, number=num)\n",
    "\n",
    "# test_code3 = \"\"\"\n",
    "# for i in range(len(rads_batch)):\n",
    "#     grow_muscle.grow_dumb(rads_batch[i].numpy(), rad_deltas_batch[i].numpy(), capital_batch[i].numpy(), efficiency_batch[i].numpy())\n",
    "# \"\"\"\n",
    "\n",
    "# times3 = timeit.repeat(setup=setup_code, stmt=test_code3, repeat=3, number=num)\n",
    "\n",
    "print(f'grow_old time: {sum(times1) / len(times1*num)}')\n",
    "print(f'grow_muscle time: {sum(times2) / len(times2*num)}')\n",
    "# print(f'grow_dumb time: {sum(times3) / len(times3)}')\n",
    "\n"
   ]
  },
  {
   "cell_type": "code",
   "execution_count": 19,
   "metadata": {},
   "outputs": [
    {
     "data": {
      "text/plain": [
       "[1.4439228330011247, 1.3595647920010379, 1.3719559580058558]"
      ]
     },
     "execution_count": 19,
     "metadata": {},
     "output_type": "execute_result"
    }
   ],
   "source": [
    "times1"
   ]
  },
  {
   "cell_type": "code",
   "execution_count": 4,
   "metadata": {},
   "outputs": [
    {
     "name": "stdout",
     "output_type": "stream",
     "text": [
      "Average time for 't -= t2': 0.014941791669116355\n",
      "Average time for 't.sub_(t2)': 0.011395708002964966\n"
     ]
    }
   ],
   "source": [
    "import timeit\n",
    "setup_code = \"\"\"\n",
    "import torch\n",
    "t = torch.randn(10000)\n",
    "t2 = torch.randn(10000)\n",
    "\"\"\"\n",
    "\n",
    "test_code1 = \"\"\"\n",
    "t -= t2\n",
    "\"\"\"\n",
    "\n",
    "test_code2 = \"\"\"\n",
    "t.sub_(t2)\n",
    "\"\"\"\n",
    "\n",
    "times1 = timeit.repeat(setup=setup_code, stmt=test_code1, repeat=3, number=10000)\n",
    "times2 = timeit.repeat(setup=setup_code, stmt=test_code2, repeat=3, number=10000)\n",
    "\n",
    "print(f\"Average time for 't -= t2': {sum(times1) / len(times1)}\")\n",
    "print(f\"Average time for 't.sub_(t2)': {sum(times2) / len(times2)}\")\n"
   ]
  },
  {
   "cell_type": "code",
   "execution_count": 2,
   "metadata": {},
   "outputs": [
    {
     "name": "stdout",
     "output_type": "stream",
     "text": [
      "Average time for 'a.addcmul_(-b, c)': 0.034066513670647204\n",
      "Average time for 'a.sub_(b * c)': 0.032938444666797295\n",
      "Average time for 'a -= b * c': 0.033240666661489136\n"
     ]
    }
   ],
   "source": [
    "setup_code = \"\"\"\n",
    "import torch\n",
    "a = torch.randn(10000)\n",
    "b = torch.randn(10000)\n",
    "c = torch.randn(10000)\n",
    "\"\"\"\n",
    "\n",
    "test_code1 = \"\"\"\n",
    "a.addcmul_(-b, c)\n",
    "\"\"\"\n",
    "\n",
    "test_code2 = \"\"\"\n",
    "a.sub_(b * c)\n",
    "\"\"\"\n",
    "\n",
    "test_code3 = \"\"\"\n",
    "a -= b * c\n",
    "\"\"\"\n",
    "\n",
    "times1 = timeit.repeat(setup=setup_code, stmt=test_code1, repeat=3, number=10000)\n",
    "times2 = timeit.repeat(setup=setup_code, stmt=test_code2, repeat=3, number=10000)\n",
    "times3 = timeit.repeat(setup=setup_code, stmt=test_code3, repeat=3, number=10000)\n",
    "\n",
    "print(f\"Average time for 'a.addcmul_(-b, c)': {sum(times1) / len(times1)}\")\n",
    "print(f\"Average time for 'a.sub_(b * c)': {sum(times2) / len(times2)}\")\n",
    "print(f\"Average time for 'a -= b * c': {sum(times3) / len(times3)}\")"
   ]
  },
  {
   "cell_type": "code",
   "execution_count": 3,
   "metadata": {},
   "outputs": [
    {
     "name": "stdout",
     "output_type": "stream",
     "text": [
      "Average time for 't.unsqueeze(1)': 0.005111194666824304\n",
      "Average time for 't[:, None]': 0.009533514001911195\n"
     ]
    }
   ],
   "source": [
    "setup_code_unsqueeze = \"\"\"\n",
    "import torch\n",
    "t = torch.randn(10000)\n",
    "\"\"\"\n",
    "\n",
    "test_code_unsqueeze = \"\"\"\n",
    "t.unsqueeze(1)\n",
    "\"\"\"\n",
    "\n",
    "test_code_none = \"\"\"\n",
    "t[:, None]\n",
    "\"\"\"\n",
    "\n",
    "times_unsqueeze = timeit.repeat(setup=setup_code_unsqueeze, stmt=test_code_unsqueeze, repeat=3, number=10000)\n",
    "times_none = timeit.repeat(setup=setup_code_unsqueeze, stmt=test_code_none, repeat=3, number=10000)\n",
    "\n",
    "print(f\"Average time for 't.unsqueeze(1)': {sum(times_unsqueeze) / len(times_unsqueeze)}\")\n",
    "print(f\"Average time for 't[:, None]': {sum(times_none) / len(times_none)}\")\n"
   ]
  },
  {
   "cell_type": "code",
   "execution_count": 34,
   "metadata": {},
   "outputs": [
    {
     "name": "stdout",
     "output_type": "stream",
     "text": [
      "Average time for 'torch.where': 0.13378423633791195\n",
      "Average time for 'control': 0.010918666666839272\n",
      "Average time for 'all': 0.13261576367464536\n"
     ]
    }
   ],
   "source": [
    "setup_code_unsqueeze = \"\"\"\n",
    "import torch\n",
    "t = torch.randn(10000)\n",
    "\"\"\"\n",
    "\n",
    "test_code_where = \"\"\"\n",
    "t1 = torch.where(t>0.75, t*t, t)\n",
    "\"\"\"\n",
    "\n",
    "test_code_control = \"\"\"\n",
    "t1 = t.clone()\n",
    "\"\"\"\n",
    "\n",
    "test_code_all = \"\"\"\n",
    "t1 = t.clone()\n",
    "t1 *= t1\n",
    "t = torch.where(t>0.75, t1, t)\n",
    "\"\"\"\n",
    "\n",
    "test_code_batch = \"\"\"\n",
    "t1 = t.where(t>0.75, t,)\n",
    "\"\"\"\n",
    "\n",
    "times_where = timeit.repeat(setup=setup_code_unsqueeze, stmt=test_code_where, repeat=3, number=10000)\n",
    "times_control = timeit.repeat(setup=setup_code_unsqueeze, stmt=test_code_control, repeat=3, number=10000)\n",
    "times_all = timeit.repeat(setup=setup_code_unsqueeze, stmt=test_code_all, repeat=3, number=10000)\n",
    "\n",
    "print(f\"Average time for 'torch.where': {sum(times_where) / len(times_where)}\")\n",
    "print(f\"Average time for 'control': {sum(times_control) / len(times_control)}\")\n",
    "print(f\"Average time for 'all': {sum(times_all) / len(times_all)}\")\n"
   ]
  },
  {
   "cell_type": "code",
   "execution_count": 26,
   "metadata": {},
   "outputs": [
    {
     "name": "stdout",
     "output_type": "stream",
     "text": [
      "tensor([1, 2, 3, 4, 5])\n"
     ]
    }
   ],
   "source": [
    "import torch\n",
    "t = torch.tensor([1,2,3,4,5])\n",
    "t1 = t * 1.0\n",
    "\n",
    "t1.mul_(10)\n",
    "print(t)"
   ]
  },
  {
   "cell_type": "code",
   "execution_count": 63,
   "metadata": {},
   "outputs": [
    {
     "name": "stdout",
     "output_type": "stream",
     "text": [
      "Average time for 'whole': 0.029083986339780193\n",
      "Average time for 'batch': 0.03773087499818454\n",
      "Average time for 'inplace': 0.10167401400394738\n"
     ]
    },
    {
     "data": {
      "text/plain": [
       "[0.03381441699457355, 0.02547270801733248, 0.027964834007434547]"
      ]
     },
     "execution_count": 63,
     "metadata": {},
     "output_type": "execute_result"
    }
   ],
   "source": [
    "setup_code = \"\"\"\n",
    "import torch\n",
    "t = torch.randn((10,100,100))\n",
    "threshold = 2\n",
    "\"\"\"\n",
    "\n",
    "whole = \"\"\"\n",
    "t1 = torch.where(t>2, t, torch.tensor(0.0))\n",
    "t1*=t1\n",
    "t1+=t1\n",
    "t = torch.where(t>2, t1, t)\n",
    "\"\"\"\n",
    "\n",
    "batch = \"\"\"\n",
    "indices = t > threshold\n",
    "vals = t[indices]\n",
    "vals *= vals\n",
    "vals += vals\n",
    "t[indices] = vals\n",
    "\"\"\"\n",
    "\n",
    "inplace = \"\"\" \n",
    "indices = t > threshold\n",
    "t[indices] *= t[indices]\n",
    "t[indices] += t[indices]\n",
    "\"\"\"\n",
    "\n",
    "times_whole = timeit.repeat(setup=setup_code, stmt=whole, repeat=3, number=100)\n",
    "times_batch = timeit.repeat(setup=setup_code, stmt=batch, repeat=3, number=100)\n",
    "times_inplace = timeit.repeat(setup=setup_code, stmt=inplace, repeat=3, number=100)\n",
    "\n",
    "print(f\"Average time for 'whole': {sum(times_whole) / len(times_whole)}\")\n",
    "print(f\"Average time for 'batch': {sum(times_batch) / len(times_batch)}\")\n",
    "print(f\"Average time for 'inplace': {sum(times_inplace) / len(times_inplace)}\")\n",
    "times_whole\n"
   ]
  }
 ],
 "metadata": {
  "kernelspec": {
   "display_name": "cv",
   "language": "python",
   "name": "python3"
  },
  "language_info": {
   "codemirror_mode": {
    "name": "ipython",
    "version": 3
   },
   "file_extension": ".py",
   "mimetype": "text/x-python",
   "name": "python",
   "nbconvert_exporter": "python",
   "pygments_lexer": "ipython3",
   "version": "3.10.8"
  },
  "orig_nbformat": 4
 },
 "nbformat": 4,
 "nbformat_minor": 2
}
