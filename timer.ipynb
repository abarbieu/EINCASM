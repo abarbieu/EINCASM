{
 "cells": [
  {
   "cell_type": "code",
   "execution_count": 1,
   "metadata": {},
   "outputs": [],
   "source": [
    "import timeit"
   ]
  },
  {
   "cell_type": "code",
   "execution_count": 20,
   "metadata": {},
   "outputs": [
    {
     "name": "stdout",
     "output_type": "stream",
     "text": [
      "grow_old time: 0.0013811915693319559\n",
      "grow_muscle time: 0.0005479471806659906\n"
     ]
    }
   ],
   "source": [
    "setup_code = \"\"\"\n",
    "import torch\n",
    "import importlib\n",
    "import grow_muscle\n",
    "importlib.reload(grow_muscle)\n",
    "rads_batch = torch.randn(10000,5)\n",
    "rad_deltas_batch = torch.randn(10000,5)\n",
    "cyt_batch = torch.randn(10000)\n",
    "efficiency_batch = torch.randn(10000)\n",
    "\"\"\"\n",
    "num = 1000\n",
    "\n",
    "test_code1 = \"\"\"\n",
    "grow_muscle.grow_old(rads_batch, rad_deltas_batch, cyt_batch, efficiency_batch)\n",
    "\"\"\"\n",
    "\n",
    "times1 = timeit.repeat(setup=setup_code, stmt=test_code1, repeat=3, number=num)\n",
    "\n",
    "test_code2 = \"\"\"\n",
    "grow_muscle.grow_muscle(rads_batch, rad_deltas_batch, cyt_batch, efficiency_batch)\n",
    "\"\"\"\n",
    "\n",
    "times2 = timeit.repeat(setup=setup_code, stmt=test_code2, repeat=3, number=num)\n",
    "\n",
    "# test_code3 = \"\"\"\n",
    "# for i in range(len(rads_batch)):\n",
    "#     grow_muscle.grow_dumb(rads_batch[i].numpy(), rad_deltas_batch[i].numpy(), cyt_batch[i].numpy(), efficiency_batch[i].numpy())\n",
    "# \"\"\"\n",
    "\n",
    "# times3 = timeit.repeat(setup=setup_code, stmt=test_code3, repeat=3, number=num)\n",
    "\n",
    "print(f'grow_old time: {sum(times1) / len(times1*num)}')\n",
    "print(f'grow_muscle time: {sum(times2) / len(times2*num)}')\n",
    "# print(f'grow_dumb time: {sum(times3) / len(times3)}')\n",
    "\n"
   ]
  },
  {
   "cell_type": "code",
   "execution_count": 19,
   "metadata": {},
   "outputs": [
    {
     "data": {
      "text/plain": [
       "[1.4439228330011247, 1.3595647920010379, 1.3719559580058558]"
      ]
     },
     "execution_count": 19,
     "metadata": {},
     "output_type": "execute_result"
    }
   ],
   "source": [
    "times1"
   ]
  },
  {
   "cell_type": "code",
   "execution_count": 4,
   "metadata": {},
   "outputs": [
    {
     "name": "stdout",
     "output_type": "stream",
     "text": [
      "Average time for 't -= t2': 0.014941791669116355\n",
      "Average time for 't.sub_(t2)': 0.011395708002964966\n"
     ]
    }
   ],
   "source": [
    "import timeit\n",
    "setup_code = \"\"\"\n",
    "import torch\n",
    "t = torch.randn(10000)\n",
    "t2 = torch.randn(10000)\n",
    "\"\"\"\n",
    "\n",
    "test_code1 = \"\"\"\n",
    "t -= t2\n",
    "\"\"\"\n",
    "\n",
    "test_code2 = \"\"\"\n",
    "t.sub_(t2)\n",
    "\"\"\"\n",
    "\n",
    "times1 = timeit.repeat(setup=setup_code, stmt=test_code1, repeat=3, number=10000)\n",
    "times2 = timeit.repeat(setup=setup_code, stmt=test_code2, repeat=3, number=10000)\n",
    "\n",
    "print(f\"Average time for 't -= t2': {sum(times1) / len(times1)}\")\n",
    "print(f\"Average time for 't.sub_(t2)': {sum(times2) / len(times2)}\")\n"
   ]
  },
  {
   "cell_type": "code",
   "execution_count": 2,
   "metadata": {},
   "outputs": [
    {
     "name": "stdout",
     "output_type": "stream",
     "text": [
      "Average time for 'a.addcmul_(-b, c)': 0.034066513670647204\n",
      "Average time for 'a.sub_(b * c)': 0.032938444666797295\n",
      "Average time for 'a -= b * c': 0.033240666661489136\n"
     ]
    }
   ],
   "source": [
    "setup_code = \"\"\"\n",
    "import torch\n",
    "a = torch.randn(10000)\n",
    "b = torch.randn(10000)\n",
    "c = torch.randn(10000)\n",
    "\"\"\"\n",
    "\n",
    "test_code1 = \"\"\"\n",
    "a.addcmul_(-b, c)\n",
    "\"\"\"\n",
    "\n",
    "test_code2 = \"\"\"\n",
    "a.sub_(b * c)\n",
    "\"\"\"\n",
    "\n",
    "test_code3 = \"\"\"\n",
    "a -= b * c\n",
    "\"\"\"\n",
    "\n",
    "times1 = timeit.repeat(setup=setup_code, stmt=test_code1, repeat=3, number=10000)\n",
    "times2 = timeit.repeat(setup=setup_code, stmt=test_code2, repeat=3, number=10000)\n",
    "times3 = timeit.repeat(setup=setup_code, stmt=test_code3, repeat=3, number=10000)\n",
    "\n",
    "print(f\"Average time for 'a.addcmul_(-b, c)': {sum(times1) / len(times1)}\")\n",
    "print(f\"Average time for 'a.sub_(b * c)': {sum(times2) / len(times2)}\")\n",
    "print(f\"Average time for 'a -= b * c': {sum(times3) / len(times3)}\")"
   ]
  },
  {
   "cell_type": "code",
   "execution_count": 3,
   "metadata": {},
   "outputs": [
    {
     "name": "stdout",
     "output_type": "stream",
     "text": [
      "Average time for 't.unsqueeze(1)': 0.005111194666824304\n",
      "Average time for 't[:, None]': 0.009533514001911195\n"
     ]
    }
   ],
   "source": [
    "setup_code_unsqueeze = \"\"\"\n",
    "import torch\n",
    "t = torch.randn(10000)\n",
    "\"\"\"\n",
    "\n",
    "test_code_unsqueeze = \"\"\"\n",
    "t.unsqueeze(1)\n",
    "\"\"\"\n",
    "\n",
    "test_code_none = \"\"\"\n",
    "t[:, None]\n",
    "\"\"\"\n",
    "\n",
    "times_unsqueeze = timeit.repeat(setup=setup_code_unsqueeze, stmt=test_code_unsqueeze, repeat=3, number=10000)\n",
    "times_none = timeit.repeat(setup=setup_code_unsqueeze, stmt=test_code_none, repeat=3, number=10000)\n",
    "\n",
    "print(f\"Average time for 't.unsqueeze(1)': {sum(times_unsqueeze) / len(times_unsqueeze)}\")\n",
    "print(f\"Average time for 't[:, None]': {sum(times_none) / len(times_none)}\")\n"
   ]
  },
  {
   "cell_type": "code",
   "execution_count": null,
   "metadata": {},
   "outputs": [],
   "source": []
  }
 ],
 "metadata": {
  "kernelspec": {
   "display_name": "cv",
   "language": "python",
   "name": "python3"
  },
  "language_info": {
   "codemirror_mode": {
    "name": "ipython",
    "version": 3
   },
   "file_extension": ".py",
   "mimetype": "text/x-python",
   "name": "python",
   "nbconvert_exporter": "python",
   "pygments_lexer": "ipython3",
   "version": "3.10.8"
  },
  "orig_nbformat": 4
 },
 "nbformat": 4,
 "nbformat_minor": 2
}
