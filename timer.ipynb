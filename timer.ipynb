{
 "cells": [
  {
   "cell_type": "code",
   "execution_count": 230,
   "metadata": {},
   "outputs": [],
   "source": [
    "import torch\n",
    "from timeit import default_timer as timer\n",
    "import timeit\n",
    "import torch\n",
    "import importlib\n",
    "import src.physics as physics\n",
    "importlib.reload(physics)\n",
    "import EINCASMConfig \n",
    "importlib.reload(EINCASMConfig)\n",
    "\n",
    "cfg = EINCASMConfig.Config('config.yaml')"
   ]
  },
  {
   "cell_type": "code",
   "execution_count": 235,
   "metadata": {},
   "outputs": [
    {
     "name": "stdout",
     "output_type": "stream",
     "text": [
      "mps grow muscle: 0.0026886457984801383\n",
      "cpu grow muscle: 0.023998370801564306\n"
     ]
    }
   ],
   "source": [
    "def init_tensors(config, w, h):\n",
    "    klen = config.kernel.shape[0]\n",
    "    muscle_radii = torch.randn((klen, w, h), device=config.device, dtype=config.float_dtype)\n",
    "    radii_deltas = torch.randn((klen, w, h), device=config.device, dtype=config.float_dtype)\n",
    "    capital = torch.rand((w, h), device=config.device, dtype=config.float_dtype)\n",
    "    growth_efficiency = torch.rand((w, h), device=config.device, dtype=config.float_dtype)\n",
    "    open_cells = torch.randint(0,2,(w, h), device=config.device, dtype=torch.bool)\n",
    "\n",
    "    muscle_masks = physics.generate_muscle_masks(config, open_cells)\n",
    "    muscle_radii *= muscle_masks\n",
    "    capital *= open_cells\n",
    "    \n",
    "    return muscle_radii, radii_deltas, capital, growth_efficiency, muscle_masks, open_cells\n",
    "\n",
    "w = 1000\n",
    "h = 1000\n",
    "# cfg.set_kernel([[0,0]])\n",
    "reps = 10\n",
    "\n",
    "cfg.update_device('mps')\n",
    "\n",
    "\n",
    "\n",
    "muscle_radii, radii_deltas, capital, growth_efficiency, muscle_masks, open_cells = init_tensors(cfg, w, h)\n",
    "start = timer()\n",
    "for _ in range (reps):\n",
    "    physics.grow_muscle_csa(cfg, muscle_radii, radii_deltas, capital, growth_efficiency, muscle_masks, open_cells)\n",
    "end = timer()\n",
    "\n",
    "print(f\"mps grow muscle: {(end-start)/reps}\")\n",
    "\n",
    "\n",
    "cfg.update_device('cpu')\n",
    "torch.mps.empty_cache()\n",
    "\n",
    "muscle_radii, radii_deltas, capital, growth_efficiency, muscle_masks, open_cells = init_tensors(cfg, w, h)\n",
    "start = timer()\n",
    "for i in range (reps):\n",
    "    physics.grow_muscle_csa(cfg, muscle_radii, radii_deltas, capital, growth_efficiency, muscle_masks, open_cells)\n",
    "end = timer()\n",
    "\n",
    "print(f\"cpu grow muscle: {(end-start)/reps}\")"
   ]
  },
  {
   "cell_type": "code",
   "execution_count": 92,
   "metadata": {},
   "outputs": [
    {
     "name": "stdout",
     "output_type": "stream",
     "text": [
      "stored: 0.020247973329969682\n",
      "unstored: 0.02023460999975214\n"
     ]
    }
   ],
   "source": [
    "w=10000\n",
    "h=10000\n",
    "reps = 100\n",
    "cfg.update_device('mps')\n",
    "\n",
    "a = torch.randn(w, h, device = cfg.device, dtype = cfg.float_dtype)\n",
    "b = torch.randn(w, h, device = cfg.device, dtype = cfg.float_dtype)\n",
    "c = torch.randn(w, h, device = cfg.device, dtype = cfg.float_dtype)\n",
    "d = torch.randn(w, h, device = cfg.device, dtype = cfg.float_dtype)\n",
    "a1 = a.clone()\n",
    "b1 = b.clone()\n",
    "c1 = c.clone()\n",
    "d1 = d.clone()\n",
    "\n",
    "torch.mps.empty_cache()\n",
    "start = timer()\n",
    "for _ in range (reps):\n",
    "    a1 = torch.sign(b1.add(c1))\n",
    "    torch.mul(torch.sqrt(d1), a1, out=b1)  \n",
    "end = timer()\n",
    "print(f\"stored: {(end-start)/reps}\")\n",
    "\n",
    "torch.mps.empty_cache()\n",
    "\n",
    "start = timer()\n",
    "for _ in range (reps):\n",
    "    a = torch.sign(b.add(c))\n",
    "    torch.mul(torch.sqrt(d), a, out=b)  \n",
    "end = timer()\n",
    "print(f\"unstored: {(end-start)/reps}\")\n"
   ]
  },
  {
   "attachments": {},
   "cell_type": "markdown",
   "metadata": {},
   "source": [
    "# Interesting: Empty Cache!\n",
    "\n",
    "Consider the time difference between the identical code snippets"
   ]
  },
  {
   "cell_type": "code",
   "execution_count": 104,
   "metadata": {},
   "outputs": [
    {
     "name": "stdout",
     "output_type": "stream",
     "text": [
      "stored: 0.0003061457973672077\n",
      "unstored: 0.00027897910040337593\n"
     ]
    }
   ],
   "source": [
    "w=10000\n",
    "h=10000\n",
    "reps = 10\n",
    "cfg.update_device('mps')\n",
    "\n",
    "a = torch.randn(w, h, device = cfg.device, dtype = cfg.float_dtype)\n",
    "b = torch.randn(w, h, device = cfg.device, dtype = cfg.float_dtype)\n",
    "c = torch.randn(w, h, device = cfg.device, dtype = cfg.float_dtype)\n",
    "d = torch.randn(w, h, device = cfg.device, dtype = cfg.float_dtype)\n",
    "\n",
    "\n",
    "torch.mps.empty_cache()\n",
    "start = timer()\n",
    "for _ in range (reps):\n",
    "    a = torch.sign(b.add(c))\n",
    "    torch.mul(torch.sqrt(d), a, out=b)  \n",
    "end = timer()\n",
    "print(f\"stored: {(end-start)/reps}\")\n",
    "\n",
    "torch.mps.empty_cache()\n",
    "start = timer()\n",
    "for _ in range (reps):\n",
    "    a = torch.sign(b.add(c))\n",
    "    torch.mul(torch.sqrt(d), a, out=b)  \n",
    "end = timer()\n",
    "print(f\"unstored: {(end-start)/reps}\")"
   ]
  },
  {
   "cell_type": "code",
   "execution_count": 105,
   "metadata": {},
   "outputs": [
    {
     "name": "stdout",
     "output_type": "stream",
     "text": [
      "stored: 0.00043198749772273005\n",
      "unstored: 0.015266337498906069\n"
     ]
    }
   ],
   "source": [
    "w=10000\n",
    "h=10000\n",
    "reps = 10\n",
    "cfg.update_device('mps')\n",
    "\n",
    "a = torch.randn(w, h, device = cfg.device, dtype = cfg.float_dtype)\n",
    "b = torch.randn(w, h, device = cfg.device, dtype = cfg.float_dtype)\n",
    "c = torch.randn(w, h, device = cfg.device, dtype = cfg.float_dtype)\n",
    "d = torch.randn(w, h, device = cfg.device, dtype = cfg.float_dtype)\n",
    "\n",
    "start = timer()\n",
    "for _ in range (reps):\n",
    "    a = torch.sign(b.add(c))\n",
    "    torch.mul(torch.sqrt(d), a, out=b)    \n",
    "end = timer()\n",
    "print(f\"stored: {(end-start)/reps}\")\n",
    "\n",
    "start = timer()\n",
    "for _ in range (reps):\n",
    "    a = torch.sign(b.add(c))\n",
    "    torch.mul(torch.sqrt(d), a, out=b)  \n",
    "end = timer()\n",
    "print(f\"unstored: {(end-start)/reps}\")"
   ]
  },
  {
   "attachments": {},
   "cell_type": "markdown",
   "metadata": {},
   "source": [
    "# ..."
   ]
  },
  {
   "cell_type": "code",
   "execution_count": 2,
   "metadata": {},
   "outputs": [],
   "source": [
    "device = torch.device('mps')"
   ]
  },
  {
   "cell_type": "code",
   "execution_count": 4,
   "metadata": {},
   "outputs": [
    {
     "name": "stdout",
     "output_type": "stream",
     "text": [
      "MPS time:  0.19086349999997765\n",
      "CPU time:  0.5777838329959195\n"
     ]
    }
   ],
   "source": [
    "num = 1000\n",
    "mps_setup = \"\"\"\n",
    "import torch\n",
    "mps_device = torch.device('mps')\n",
    "\n",
    "x = torch.randn(1000, 1000, device=mps_device)\n",
    "y = torch.randn(1000, 1000, device=mps_device)\n",
    "\"\"\"\n",
    "\n",
    "cpu_setup = \"\"\"\n",
    "import torch\n",
    "cpu_device = torch.device('cpu')\n",
    "\n",
    "x = torch.randn(1000, 1000, device=cpu_device)\n",
    "y = torch.randn(1000, 1000, device=cpu_device)\n",
    "\"\"\"\n",
    "\n",
    "mps_code = \"\"\"\n",
    "z = torch.where(x>0, x, y)\n",
    "\"\"\"\n",
    "\n",
    "cpu_code = \"\"\"\n",
    "z = torch.where(x>0, x, y)\n",
    "\"\"\"\n",
    "\n",
    "print('MPS time: ', timeit.timeit(setup=mps_setup, stmt=mps_code, number=num))\n",
    "print('CPU time: ', timeit.timeit(setup=cpu_setup, stmt=cpu_code, number=num))"
   ]
  },
  {
   "cell_type": "code",
   "execution_count": 12,
   "metadata": {},
   "outputs": [
    {
     "data": {
      "text/plain": [
       "<module 'src.physics' from '/Users/aidanbx/CS/EINCASM/src/physics.py'>"
      ]
     },
     "execution_count": 12,
     "metadata": {},
     "output_type": "execute_result"
    }
   ],
   "source": [
    "import torch\n",
    "import importlib\n",
    "import src.physics\n",
    "import EINCASMConfig as cfg\n",
    "importlib.reload(cfg)\n",
    "importlib.reload(src.physics)"
   ]
  },
  {
   "cell_type": "code",
   "execution_count": 19,
   "metadata": {},
   "outputs": [
    {
     "data": {
      "text/plain": [
       "[1.4439228330011247, 1.3595647920010379, 1.3719559580058558]"
      ]
     },
     "execution_count": 19,
     "metadata": {},
     "output_type": "execute_result"
    }
   ],
   "source": [
    "times1"
   ]
  },
  {
   "cell_type": "code",
   "execution_count": 4,
   "metadata": {},
   "outputs": [
    {
     "name": "stdout",
     "output_type": "stream",
     "text": [
      "Average time for 't -= t2': 0.014941791669116355\n",
      "Average time for 't.sub_(t2)': 0.011395708002964966\n"
     ]
    }
   ],
   "source": [
    "import timeit\n",
    "setup_code = \"\"\"\n",
    "import torch\n",
    "t = torch.randn(10000)\n",
    "t2 = torch.randn(10000)\n",
    "\"\"\"\n",
    "\n",
    "test_code1 = \"\"\"\n",
    "t -= t2\n",
    "\"\"\"\n",
    "\n",
    "test_code2 = \"\"\"\n",
    "t.sub_(t2)\n",
    "\"\"\"\n",
    "\n",
    "times1 = timeit.repeat(setup=setup_code, stmt=test_code1, repeat=3, number=10000)\n",
    "times2 = timeit.repeat(setup=setup_code, stmt=test_code2, repeat=3, number=10000)\n",
    "\n",
    "print(f\"Average time for 't -= t2': {sum(times1) / len(times1)}\")\n",
    "print(f\"Average time for 't.sub_(t2)': {sum(times2) / len(times2)}\")\n"
   ]
  },
  {
   "cell_type": "code",
   "execution_count": 2,
   "metadata": {},
   "outputs": [
    {
     "name": "stdout",
     "output_type": "stream",
     "text": [
      "Average time for 'a.addcmul_(-b, c)': 0.034066513670647204\n",
      "Average time for 'a.sub_(b * c)': 0.032938444666797295\n",
      "Average time for 'a -= b * c': 0.033240666661489136\n"
     ]
    }
   ],
   "source": [
    "setup_code = \"\"\"\n",
    "import torch\n",
    "a = torch.randn(10000)\n",
    "b = torch.randn(10000)\n",
    "c = torch.randn(10000)\n",
    "\"\"\"\n",
    "\n",
    "test_code1 = \"\"\"\n",
    "a.addcmul_(-b, c)\n",
    "\"\"\"\n",
    "\n",
    "test_code2 = \"\"\"\n",
    "a.sub_(b * c)\n",
    "\"\"\"\n",
    "\n",
    "test_code3 = \"\"\"\n",
    "a -= b * c\n",
    "\"\"\"\n",
    "\n",
    "times1 = timeit.repeat(setup=setup_code, stmt=test_code1, repeat=3, number=10000)\n",
    "times2 = timeit.repeat(setup=setup_code, stmt=test_code2, repeat=3, number=10000)\n",
    "times3 = timeit.repeat(setup=setup_code, stmt=test_code3, repeat=3, number=10000)\n",
    "\n",
    "print(f\"Average time for 'a.addcmul_(-b, c)': {sum(times1) / len(times1)}\")\n",
    "print(f\"Average time for 'a.sub_(b * c)': {sum(times2) / len(times2)}\")\n",
    "print(f\"Average time for 'a -= b * c': {sum(times3) / len(times3)}\")"
   ]
  },
  {
   "cell_type": "code",
   "execution_count": 3,
   "metadata": {},
   "outputs": [
    {
     "name": "stdout",
     "output_type": "stream",
     "text": [
      "Average time for 't.unsqueeze(1)': 0.005111194666824304\n",
      "Average time for 't[:, None]': 0.009533514001911195\n"
     ]
    }
   ],
   "source": [
    "setup_code_unsqueeze = \"\"\"\n",
    "import torch\n",
    "t = torch.randn(10000)\n",
    "\"\"\"\n",
    "\n",
    "test_code_unsqueeze = \"\"\"\n",
    "t.unsqueeze(1)\n",
    "\"\"\"\n",
    "\n",
    "test_code_none = \"\"\"\n",
    "t[:, None]\n",
    "\"\"\"\n",
    "\n",
    "times_unsqueeze = timeit.repeat(setup=setup_code_unsqueeze, stmt=test_code_unsqueeze, repeat=3, number=10000)\n",
    "times_none = timeit.repeat(setup=setup_code_unsqueeze, stmt=test_code_none, repeat=3, number=10000)\n",
    "\n",
    "print(f\"Average time for 't.unsqueeze(1)': {sum(times_unsqueeze) / len(times_unsqueeze)}\")\n",
    "print(f\"Average time for 't[:, None]': {sum(times_none) / len(times_none)}\")\n"
   ]
  },
  {
   "cell_type": "code",
   "execution_count": 34,
   "metadata": {},
   "outputs": [
    {
     "name": "stdout",
     "output_type": "stream",
     "text": [
      "Average time for 'torch.where': 0.13378423633791195\n",
      "Average time for 'control': 0.010918666666839272\n",
      "Average time for 'all': 0.13261576367464536\n"
     ]
    }
   ],
   "source": [
    "setup_code_unsqueeze = \"\"\"\n",
    "import torch\n",
    "t = torch.randn(10000)\n",
    "\"\"\"\n",
    "\n",
    "test_code_where = \"\"\"\n",
    "t1 = torch.where(t>0.75, t*t, t)\n",
    "\"\"\"\n",
    "\n",
    "test_code_control = \"\"\"\n",
    "t1 = t.clone()\n",
    "\"\"\"\n",
    "\n",
    "test_code_all = \"\"\"\n",
    "t1 = t.clone()\n",
    "t1 *= t1\n",
    "t = torch.where(t>0.75, t1, t)\n",
    "\"\"\"\n",
    "\n",
    "test_code_batch = \"\"\"\n",
    "t1 = t.where(t>0.75, t,)\n",
    "\"\"\"\n",
    "\n",
    "times_where = timeit.repeat(setup=setup_code_unsqueeze, stmt=test_code_where, repeat=3, number=10000)\n",
    "times_control = timeit.repeat(setup=setup_code_unsqueeze, stmt=test_code_control, repeat=3, number=10000)\n",
    "times_all = timeit.repeat(setup=setup_code_unsqueeze, stmt=test_code_all, repeat=3, number=10000)\n",
    "\n",
    "print(f\"Average time for 'torch.where': {sum(times_where) / len(times_where)}\")\n",
    "print(f\"Average time for 'control': {sum(times_control) / len(times_control)}\")\n",
    "print(f\"Average time for 'all': {sum(times_all) / len(times_all)}\")\n"
   ]
  },
  {
   "cell_type": "code",
   "execution_count": 26,
   "metadata": {},
   "outputs": [
    {
     "name": "stdout",
     "output_type": "stream",
     "text": [
      "tensor([1, 2, 3, 4, 5])\n"
     ]
    }
   ],
   "source": [
    "import torch\n",
    "t = torch.tensor([1,2,3,4,5])\n",
    "t1 = t * 1.0\n",
    "\n",
    "t1.mul_(10)\n",
    "print(t)"
   ]
  },
  {
   "cell_type": "code",
   "execution_count": 63,
   "metadata": {},
   "outputs": [
    {
     "name": "stdout",
     "output_type": "stream",
     "text": [
      "Average time for 'whole': 0.029083986339780193\n",
      "Average time for 'batch': 0.03773087499818454\n",
      "Average time for 'inplace': 0.10167401400394738\n"
     ]
    },
    {
     "data": {
      "text/plain": [
       "[0.03381441699457355, 0.02547270801733248, 0.027964834007434547]"
      ]
     },
     "execution_count": 63,
     "metadata": {},
     "output_type": "execute_result"
    }
   ],
   "source": [
    "setup_code = \"\"\"\n",
    "import torch\n",
    "t = torch.randn((10,100,100))\n",
    "threshold = 2\n",
    "\"\"\"\n",
    "\n",
    "whole = \"\"\"\n",
    "t1 = torch.where(t>2, t, torch.tensor(0.0))\n",
    "t1*=t1\n",
    "t1+=t1\n",
    "t = torch.where(t>2, t1, t)\n",
    "\"\"\"\n",
    "\n",
    "batch = \"\"\"\n",
    "indices = t > threshold\n",
    "vals = t[indices]\n",
    "vals *= vals\n",
    "vals += vals\n",
    "t[indices] = vals\n",
    "\"\"\"\n",
    "\n",
    "inplace = \"\"\" \n",
    "indices = t > threshold\n",
    "t[indices] *= t[indices]\n",
    "t[indices] += t[indices]\n",
    "\"\"\"\n",
    "\n",
    "times_whole = timeit.repeat(setup=setup_code, stmt=whole, repeat=3, number=100)\n",
    "times_batch = timeit.repeat(setup=setup_code, stmt=batch, repeat=3, number=100)\n",
    "times_inplace = timeit.repeat(setup=setup_code, stmt=inplace, repeat=3, number=100)\n",
    "\n",
    "print(f\"Average time for 'whole': {sum(times_whole) / len(times_whole)}\")\n",
    "print(f\"Average time for 'batch': {sum(times_batch) / len(times_batch)}\")\n",
    "print(f\"Average time for 'inplace': {sum(times_inplace) / len(times_inplace)}\")\n",
    "times_whole\n"
   ]
  },
  {
   "cell_type": "code",
   "execution_count": 74,
   "metadata": {},
   "outputs": [],
   "source": [
    "import torch\n",
    "kernel = torch.tensor([\n",
    "    [0, 0],     # ORIGIN\n",
    "    [-1, 0],    # UP\n",
    "    [0, 1.0],   # RIGHT\n",
    "    [1, 0],     # DOWN\n",
    "    [0, -1]     # LEFT\n",
    "])\n",
    "\n",
    "muscle_radii = torch.randn((kernel.shape[0],1000,1000))\n",
    "\n",
    "open_cells = torch.randint(0,2,(1000,1000), dtype=torch.bool)\n",
    "muscle_masks = torch.ones_like(muscle_radii, dtype=torch.bool)\n",
    "\n",
    "for i in range(kernel.shape[0]):\n",
    "    muscle_masks[i] = torch.roll(open_cells, shifts=tuple(map(int, -kernel[i])), dims=[0, 1])\n",
    "\n",
    "muscle_masks = muscle_masks&open_cells"
   ]
  }
 ],
 "metadata": {
  "kernelspec": {
   "display_name": "cv",
   "language": "python",
   "name": "python3"
  },
  "language_info": {
   "codemirror_mode": {
    "name": "ipython",
    "version": 3
   },
   "file_extension": ".py",
   "mimetype": "text/x-python",
   "name": "python",
   "nbconvert_exporter": "python",
   "pygments_lexer": "ipython3",
   "version": "3.10.8"
  },
  "orig_nbformat": 4
 },
 "nbformat": 4,
 "nbformat_minor": 2
}
