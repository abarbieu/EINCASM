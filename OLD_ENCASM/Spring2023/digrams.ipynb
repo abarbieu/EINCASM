{
 "cells": [
  {
   "cell_type": "code",
   "execution_count": 11,
   "metadata": {},
   "outputs": [
    {
     "data": {
      "image/png": "[encoded data removed]",
      "text/plain": [
       "<Figure size 640x480 with 1 Axes>"
      ]
     },
     "metadata": {},
     "output_type": "display_data"
    }
   ],
   "source": [
    "import numpy as np\n",
    "import matplotlib.pyplot as plt\n",
    "from matplotlib.colors import ListedColormap\n",
    "\n",
    "# A MATURE, nutritional yellow, darker than bright: #\n",
    "\n",
    "# Define the colors for the colormap\n",
    "map_colors = ['#FFFFFF', '#FFc000', '#008000', '#0000FF', '#000000', '#FF0000']\n",
    "# Colors: white, yellow, green, blue, black, red\n",
    "color_key = [\"\"]\n",
    "\n",
    "# Define the grid size\n",
    "n_rows = 10\n",
    "n_cols = 10\n",
    "\n",
    "# Create a 2D array of zeros to represent the grid\n",
    "grid = np.zeros((n_rows, n_cols))\n",
    "grid[0,0]=len(map_colors)\n",
    "\n",
    "# Two food cells far apart\n",
    "grid[1,2] = 1\n",
    "grid[8,8] = 1.5\n",
    "\n",
    "# A wall between them\n",
    "grid[5,2:10] = 4\n",
    "\n",
    "# Life connecting \n",
    "\n",
    "# Create a dictionary that maps each color string to an integer\n",
    "color_dict = {color: i for i, color in enumerate(map_colors)}\n",
    "\n",
    "# Create an array of integers from the grid array using the color_dict\n",
    "grid_int = np.vectorize(color_dict.get)(grid)\n",
    "\n",
    "# Create a colormap from the colors\n",
    "cmap = ListedColormap(map_colors)\n",
    "\n",
    "# Create a figure and plot the grid\n",
    "fig, ax = plt.subplots()\n",
    "ax.imshow(grid, cmap=cmap, interpolation='bilinear')\n",
    "\n",
    "# Set the axis labels and ticks\n",
    "ax.set_xlabel('Column')\n",
    "ax.set_ylabel('Row')\n",
    "ax.set_xticks(np.arange(n_cols))\n",
    "ax.set_yticks(np.arange(n_rows))\n",
    "\n",
    "# Show the grid\n",
    "plt.show()"
   ]
  },
  {
   "cell_type": "code",
   "execution_count": null,
   "metadata": {},
   "outputs": [],
   "source": []
  },
  {
   "cell_type": "code",
   "execution_count": null,
   "metadata": {},
   "outputs": [],
   "source": []
  },
  {
   "cell_type": "code",
   "execution_count": null,
   "metadata": {},
   "outputs": [],
   "source": []
  },
  {
   "cell_type": "code",
   "execution_count": null,
   "metadata": {},
   "outputs": [],
   "source": []
  },
  {
   "cell_type": "code",
   "execution_count": null,
   "metadata": {},
   "outputs": [],
   "source": []
  },
  {
   "cell_type": "code",
   "execution_count": null,
   "metadata": {},
   "outputs": [],
   "source": []
  },
  {
   "cell_type": "code",
   "execution_count": null,
   "metadata": {},
   "outputs": [],
   "source": []
  },
  {
   "cell_type": "code",
   "execution_count": null,
   "metadata": {},
   "outputs": [],
   "source": []
  },
  {
   "cell_type": "code",
   "execution_count": null,
   "metadata": {},
   "outputs": [],
   "source": []
  },
  {
   "cell_type": "code",
   "execution_count": null,
   "metadata": {},
   "outputs": [],
   "source": []
  },
  {
   "cell_type": "code",
   "execution_count": null,
   "metadata": {},
   "outputs": [],
   "source": []
  },
  {
   "cell_type": "code",
   "execution_count": null,
   "metadata": {},
   "outputs": [],
   "source": []
  },
  {
   "cell_type": "code",
   "execution_count": null,
   "metadata": {},
   "outputs": [],
   "source": []
  },
  {
   "cell_type": "code",
   "execution_count": null,
   "metadata": {},
   "outputs": [],
   "source": []
  },
  {
   "cell_type": "code",
   "execution_count": null,
   "metadata": {},
   "outputs": [],
   "source": []
  },
  {
   "cell_type": "code",
   "execution_count": null,
   "metadata": {},
   "outputs": [],
   "source": []
  },
  {
   "cell_type": "code",
   "execution_count": null,
   "metadata": {},
   "outputs": [],
   "source": []
  },
  {
   "cell_type": "code",
   "execution_count": null,
   "metadata": {},
   "outputs": [],
   "source": []
  }
 ],
 "metadata": {
  "kernelspec": {
   "display_name": "cv",
   "language": "python",
   "name": "python3"
  },
  "language_info": {
   "codemirror_mode": {
    "name": "ipython",
    "version": 3
   },
   "file_extension": ".py",
   "mimetype": "text/x-python",
   "name": "python",
   "nbconvert_exporter": "python",
   "pygments_lexer": "ipython3",
   "version": "3.10.8"
  },
  "orig_nbformat": 4
 },
 "nbformat": 4,
 "nbformat_minor": 2
}
