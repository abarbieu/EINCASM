{
 "cells": [
  {
   "cell_type": "code",
   "execution_count": 1,
   "metadata": {},
   "outputs": [
    {
     "data": {
      "text/plain": [
       "torch.Size([1, 100, 100])"
      ]
     },
     "execution_count": 1,
     "metadata": {},
     "output_type": "execute_result"
    }
   ],
   "source": [
    "import src.pcg as pcg\n",
    "pcg.init_obstacles_perlin((1,100,100), {})[0].shape"
   ]
  },
  {
   "cell_type": "code",
   "execution_count": 281,
   "metadata": {},
   "outputs": [],
   "source": [
    "import os\n",
    "import torch\n",
    "\n",
    "base_folder = \"runs/\"\n",
    "stamp = \"20231005-0443-1\"\n",
    "folder = os.path.join(base_folder, stamp)\n",
    "data = []\n",
    "for i in range(100):\n",
    "    path = os.path.join(folder, f\"{i}.pt\")\n",
    "    if os.path.exists(path):\n",
    "       data.append(torch.load(path))"
   ]
  },
  {
   "cell_type": "code",
   "execution_count": 282,
   "metadata": {},
   "outputs": [
    {
     "ename": "TypeError",
     "evalue": "'module' object is not callable",
     "output_type": "error",
     "traceback": [
      "\u001b[0;31m---------------------------------------------------------------------------\u001b[0m",
      "\u001b[0;31mTypeError\u001b[0m                                 Traceback (most recent call last)",
      "Cell \u001b[0;32mIn[282], line 5\u001b[0m\n\u001b[1;32m      2\u001b[0m \u001b[39mimport\u001b[39;00m \u001b[39msrc\u001b[39;00m\u001b[39m.\u001b[39;00m\u001b[39mEINCASM\u001b[39;00m \u001b[39mas\u001b[39;00m \u001b[39mEINCASM\u001b[39;00m\n\u001b[1;32m      3\u001b[0m importlib\u001b[39m.\u001b[39mreload(EINCASM)\n\u001b[0;32m----> 5\u001b[0m ein \u001b[39m=\u001b[39m EINCASM\u001b[39m.\u001b[39;49mEINCASM(\u001b[39m\"\u001b[39;49m\u001b[39mconfig.yaml\u001b[39;49m\u001b[39m\"\u001b[39;49m)\n\u001b[1;32m      6\u001b[0m ein\u001b[39m.\u001b[39msim\u001b[39m.\u001b[39minit_all_channels()\n\u001b[1;32m      7\u001b[0m ein\u001b[39m.\u001b[39msim\u001b[39m.\u001b[39mupdate()\n",
      "File \u001b[0;32m~/CS/EINCASM/src/EINCASM.py:24\u001b[0m, in \u001b[0;36mEINCASM.__init__\u001b[0;34m(self, config_file)\u001b[0m\n\u001b[1;32m     23\u001b[0m \u001b[39mdef\u001b[39;00m \u001b[39m__init__\u001b[39m(\u001b[39mself\u001b[39m, config_file):\n\u001b[0;32m---> 24\u001b[0m     \u001b[39mself\u001b[39m\u001b[39m.\u001b[39mcfg \u001b[39m=\u001b[39m EINCASMConfig(config_file)\n\u001b[1;32m     25\u001b[0m     \u001b[39mself\u001b[39m\u001b[39m.\u001b[39msim \u001b[39m=\u001b[39m Simulation\u001b[39m.\u001b[39mSimulation(\u001b[39m'\u001b[39m\u001b[39mEINCASM Experiment\u001b[39m\u001b[39m'\u001b[39m)\n\u001b[1;32m     26\u001b[0m     \u001b[39mself\u001b[39m\u001b[39m.\u001b[39mdefine_channels()\n",
      "\u001b[0;31mTypeError\u001b[0m: 'module' object is not callable"
     ]
    }
   ],
   "source": [
    "import importlib\n",
    "import src.EINCASM as EINCASM\n",
    "importlib.reload(EINCASM)\n",
    "\n",
    "ein = EINCASM.EINCASM(\"config.yaml\")\n",
    "ein.sim.init_all_channels()\n",
    "ein.sim.update()"
   ]
  },
  {
   "cell_type": "code",
   "execution_count": null,
   "metadata": {},
   "outputs": [
    {
     "data": {
      "text/plain": [
       "{'id': 'EINCASM Experiment', 'world_shape': (100, 100), 'period': 46.0}"
      ]
     },
     "execution_count": 273,
     "metadata": {},
     "output_type": "execute_result"
    }
   ],
   "source": [
    "ein.sim.update()\n",
    "ein.sim.metadata\n"
   ]
  },
  {
   "cell_type": "code",
   "execution_count": 378,
   "metadata": {},
   "outputs": [
    {
     "data": {
      "text/plain": [
       "{'t1': tensor([[[999]]], dtype=torch.int32),\n",
       " 't2': tensor([[[0]],\n",
       " \n",
       "         [[0]]], dtype=torch.int32),\n",
       " 't3': tensor([[[0]],\n",
       " \n",
       "         [[1]],\n",
       " \n",
       "         [[0]]], dtype=torch.int32),\n",
       " 'tsafe': tensor([[[0]]], dtype=torch.int32),\n",
       " 'Group_t1t2': tensor([[[0]],\n",
       " \n",
       "         [[0]],\n",
       " \n",
       "         [[0]]], dtype=torch.int32),\n",
       " 'Group_t2t3': tensor([[[0]],\n",
       " \n",
       "         [[0]],\n",
       " \n",
       "         [[0]],\n",
       " \n",
       "         [[1]],\n",
       " \n",
       "         [[0]]], dtype=torch.int32),\n",
       " 'Group_g1t1': tensor([[[  0]],\n",
       " \n",
       "         [[  0]],\n",
       " \n",
       "         [[  0]],\n",
       " \n",
       "         [[999]]], dtype=torch.int32)}"
      ]
     },
     "execution_count": 378,
     "metadata": {},
     "output_type": "execute_result"
    }
   ],
   "source": [
    "import torch\n",
    "\n",
    "channels = {\n",
    "    't1': (torch.randn(1, 1, 1)**2).to(torch.int),\n",
    "    't2': (torch.randn(2, 1, 1)**2).to(torch.int),\n",
    "    't3': (torch.randn(3, 1, 1)**2).to(torch.int),\n",
    "    'tsafe': (torch.randn(1, 1, 1)**2).to(torch.int),\n",
    "}\n",
    "\n",
    "def define_group(group_id, channel_ids, isgroup={\n",
    "    't1': False,\n",
    "    't2': False,\n",
    "    't3': False,\n",
    "    'tsafe': False,\n",
    "    'Group_t1t2': True,\n",
    "    'Group_t2t3': True,\n",
    "    'Group_g1t1': True,\n",
    "}):\n",
    "    # Create a list of the selected tensors\n",
    "    selected_tensors = [channels[ch_id] for ch_id in channel_ids]\n",
    "    \n",
    "    # Stack the tensors to create the group tensor\n",
    "    group_tensor = torch.cat(selected_tensors, dim=0)    \n",
    "\n",
    "    # Add the group tensor to the channels dictionary\n",
    "    channels[group_id] = group_tensor\n",
    "    \n",
    "    # Update the channels dictionary with views from the group tensor\n",
    "    start_idx = 0\n",
    "    for ch_id in channel_ids:\n",
    "        if isgroup[ch_id]:\n",
    "            \n",
    "        end_idx = start_idx + channels[ch_id].shape[0]\n",
    "        channels[ch_id] = group_tensor[start_idx:end_idx].view(channels[ch_id].shape)\n",
    "        start_idx = end_idx\n",
    "\n",
    "# Test Case 1: Two groups sharing a channel\n",
    "define_group('Group_t1t2', ['t1', 't2'])\n",
    "define_group('Group_t2t3', ['t2', 't3'])\n",
    "\n",
    "# Test Case 2: Groups of groups\n",
    "define_group('Group_g1t1', ['Group_t1t2', 't1'])\n",
    "\n",
    "channels['Group_g1t1'][-1, 0, 0] = 999\n",
    "channels"
   ]
  },
  {
   "cell_type": "code",
   "execution_count": 571,
   "metadata": {},
   "outputs": [
    {
     "data": {
      "text/plain": [
       "True"
      ]
     },
     "execution_count": 571,
     "metadata": {},
     "output_type": "execute_result"
    }
   ],
   "source": [
    "t1 = torch.randn(5, 2, 2)\n",
    "a = t1[0]\n",
    "b = t1[1]\n",
    "c = t1[2]\n",
    "d = t1[3]\n",
    "\n",
    "g1 = t1[:2]\n",
    "g2 = t1[1:3]\n",
    "\n",
    "g1[0, 0, 0] = 999\n",
    "\n",
    "a.data_ptr() == g1[0].data_ptr()\n"
   ]
  },
  {
   "cell_type": "code",
   "execution_count": 590,
   "metadata": {},
   "outputs": [
    {
     "name": "stdout",
     "output_type": "stream",
     "text": [
      "22463488\n",
      "62463488\n",
      "62463488\n",
      "22463488\n"
     ]
    }
   ],
   "source": [
    "print(torch.mps.current_allocated_memory())\n",
    "a = torch.randn(10, 1000, 1000, device='mps:0')\n",
    "print(torch.mps.current_allocated_memory())\n",
    "b = a[0]\n",
    "c = a[1]\n",
    "d = a[2]\n",
    "print(torch.mps.current_allocated_memory())\n",
    "del a, b, c, d\n",
    "torch.mps.empty_cache()\n",
    "print(torch.mps.current_allocated_memory())\n"
   ]
  },
  {
   "cell_type": "code",
   "execution_count": 36,
   "metadata": {},
   "outputs": [
    {
     "ename": "AttributeError",
     "evalue": "'Channel' object has no attribute 'data_ptr'",
     "output_type": "error",
     "traceback": [
      "\u001b[0;31m---------------------------------------------------------------------------\u001b[0m",
      "\u001b[0;31mAttributeError\u001b[0m                            Traceback (most recent call last)",
      "Cell \u001b[0;32mIn[36], line 15\u001b[0m\n\u001b[1;32m     12\u001b[0m sim\u001b[39m.\u001b[39minit_all_channels()\n\u001b[1;32m     14\u001b[0m \u001b[39mfor\u001b[39;00m ch \u001b[39min\u001b[39;00m sim\u001b[39m.\u001b[39mchannels\u001b[39m.\u001b[39mvalues():\n\u001b[0;32m---> 15\u001b[0m     \u001b[39mprint\u001b[39m(ch\u001b[39m.\u001b[39mid, ch\u001b[39m.\u001b[39mshape, ch\u001b[39m.\u001b[39mdtype, ch\u001b[39m.\u001b[39mdevice, ch\u001b[39m.\u001b[39;49mdata_ptr())\n",
      "\u001b[0;31mAttributeError\u001b[0m: 'Channel' object has no attribute 'data_ptr'"
     ]
    }
   ],
   "source": [
    "import importlib\n",
    "import src.Simulation as Simulation\n",
    "importlib.reload(Simulation)\n",
    "import src.Channel as Channel\n",
    "importlib.reload(Channel)\n",
    "\n",
    "sim = Simulation.Simulation(world_shape=(2,2))\n",
    "sim.add_channel('t1', num_layers=3)\n",
    "\n",
    "sim.add_subchannel('t1_1', 't1', indices=[0, 1])\n",
    "\n",
    "sim.init_all_channels()\n",
    "\n",
    "for ch in sim.channels.values():"
   ]
  },
  {
   "cell_type": "code",
   "execution_count": 15,
   "metadata": {},
   "outputs": [],
   "source": [
    "def f():\n",
    "    return (1,2)\n",
    "\n",
    "a,b = f()\n",
    "\n"
   ]
  },
  {
   "cell_type": "code",
   "execution_count": 4,
   "metadata": {},
   "outputs": [
    {
     "ename": "AttributeError",
     "evalue": "'Channel' object has no attribute 'contents'",
     "output_type": "error",
     "traceback": [
      "\u001b[0;31m---------------------------------------------------------------------------\u001b[0m",
      "\u001b[0;31mAttributeError\u001b[0m                            Traceback (most recent call last)",
      "Cell \u001b[0;32mIn[4], line 1\u001b[0m\n\u001b[0;32m----> 1\u001b[0m [c\u001b[39m.\u001b[39mcontents \u001b[39mfor\u001b[39;00m c \u001b[39min\u001b[39;00m sim\u001b[39m.\u001b[39mchannels\u001b[39m.\u001b[39mvalues()]\n",
      "Cell \u001b[0;32mIn[4], line 1\u001b[0m, in \u001b[0;36m<listcomp>\u001b[0;34m(.0)\u001b[0m\n\u001b[0;32m----> 1\u001b[0m [c\u001b[39m.\u001b[39;49mcontents \u001b[39mfor\u001b[39;00m c \u001b[39min\u001b[39;00m sim\u001b[39m.\u001b[39mchannels\u001b[39m.\u001b[39mvalues()]\n",
      "\u001b[0;31mAttributeError\u001b[0m: 'Channel' object has no attribute 'contents'"
     ]
    }
   ],
   "source": [
    "[c.contents for c in sim.channels.values()]"
   ]
  }
 ],
 "metadata": {
  "kernelspec": {
   "display_name": "cv",
   "language": "python",
   "name": "python3"
  },
  "language_info": {
   "codemirror_mode": {
    "name": "ipython",
    "version": 3
   },
   "file_extension": ".py",
   "mimetype": "text/x-python",
   "name": "python",
   "nbconvert_exporter": "python",
   "pygments_lexer": "ipython3",
   "version": "3.10.8"
  },
  "orig_nbformat": 4
 },
 "nbformat": 4,
 "nbformat_minor": 2
}
