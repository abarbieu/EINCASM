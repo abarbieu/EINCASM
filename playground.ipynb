{
 "cells": [
  {
   "cell_type": "code",
   "execution_count": 364,
   "metadata": {},
   "outputs": [],
   "source": [
    "import os\n",
    "import torch\n",
    "\n",
    "base_folder = \"runs/\"\n",
    "stamp = \"20231005-0443-1\"\n",
    "folder = os.path.join(base_folder, stamp)\n",
    "data = []\n",
    "for i in range(100):\n",
    "    path = os.path.join(folder, f\"{i}.pt\")\n",
    "    if os.path.exists(path):\n",
    "       data.append(torch.load(path))"
   ]
  },
  {
   "cell_type": "code",
   "execution_count": 226,
   "metadata": {},
   "outputs": [],
   "source": [
    "import importlib\n",
    "import src.EINCASM as EINCASM\n",
    "importlib.reload(EINCASM)\n",
    "\n",
    "ein = EINCASM.EINCASM(\"config.yaml\")\n",
    "ein.sim.init_all_channels()\n",
    "ein.sim.update()"
   ]
  }
 ],
 "metadata": {
  "kernelspec": {
   "display_name": "cv",
   "language": "python",
   "name": "python3"
  },
  "language_info": {
   "codemirror_mode": {
    "name": "ipython",
    "version": 3
   },
   "file_extension": ".py",
   "mimetype": "text/x-python",
   "name": "python",
   "nbconvert_exporter": "python",
   "pygments_lexer": "ipython3",
   "version": "3.10.8"
  },
  "orig_nbformat": 4
 },
 "nbformat": 4,
 "nbformat_minor": 2
}
