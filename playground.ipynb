{
 "cells": [
  {
   "cell_type": "code",
   "execution_count": 364,
   "metadata": {},
   "outputs": [],
   "source": [
    "import os\n",
    "import torch\n",
    "\n",
    "base_folder = \"runs/\"\n",
    "stamp = \"20231005-0443-1\"\n",
    "folder = os.path.join(base_folder, stamp)\n",
    "data = []\n",
    "for i in range(100):\n",
    "    path = os.path.join(folder, f\"{i}.pt\")\n",
    "    if os.path.exists(path):\n",
    "       data.append(torch.load(path))"
   ]
  },
  {
   "cell_type": "code",
   "execution_count": 151,
   "metadata": {},
   "outputs": [
    {
     "ename": "TypeError",
     "evalue": "Simulation.add_channel() got an unexpected keyword argument 'metadata'",
     "output_type": "error",
     "traceback": [
      "\u001b[0;31m---------------------------------------------------------------------------\u001b[0m",
      "\u001b[0;31mTypeError\u001b[0m                                 Traceback (most recent call last)",
      "Cell \u001b[0;32mIn[151], line 5\u001b[0m\n\u001b[1;32m      2\u001b[0m \u001b[39mimport\u001b[39;00m \u001b[39msrc\u001b[39;00m\u001b[39m.\u001b[39;00m\u001b[39mEINCASM\u001b[39;00m \u001b[39mas\u001b[39;00m \u001b[39mEINCASM\u001b[39;00m\n\u001b[1;32m      3\u001b[0m importlib\u001b[39m.\u001b[39mreload(EINCASM)\n\u001b[0;32m----> 5\u001b[0m ein \u001b[39m=\u001b[39m EINCASM\u001b[39m.\u001b[39;49mEINCASM(\u001b[39m\"\u001b[39;49m\u001b[39mconfig.yaml\u001b[39;49m\u001b[39m\"\u001b[39;49m)\n",
      "File \u001b[0;32m~/CS/EINCASM/src/EINCASM.py:18\u001b[0m, in \u001b[0;36mEINCASM.__init__\u001b[0;34m(self, config_file)\u001b[0m\n\u001b[1;32m     16\u001b[0m \u001b[39mself\u001b[39m\u001b[39m.\u001b[39mcfg \u001b[39m=\u001b[39m EINCASMConfig\u001b[39m.\u001b[39mConfig(config_file)\n\u001b[1;32m     17\u001b[0m \u001b[39mself\u001b[39m\u001b[39m.\u001b[39msim \u001b[39m=\u001b[39m Simulation\u001b[39m.\u001b[39mSimulation()\n\u001b[0;32m---> 18\u001b[0m \u001b[39mself\u001b[39;49m\u001b[39m.\u001b[39;49mdefine_channels()\n",
      "File \u001b[0;32m~/CS/EINCASM/src/EINCASM.py:21\u001b[0m, in \u001b[0;36mEINCASM.define_channels\u001b[0;34m(self)\u001b[0m\n\u001b[1;32m     20\u001b[0m \u001b[39mdef\u001b[39;00m \u001b[39mdefine_channels\u001b[39m(\u001b[39mself\u001b[39m):\n\u001b[0;32m---> 21\u001b[0m     \u001b[39mself\u001b[39;49m\u001b[39m.\u001b[39;49msim\u001b[39m.\u001b[39;49madd_channel(\u001b[39m\"\u001b[39;49m\u001b[39mobstacles\u001b[39;49m\u001b[39m\"\u001b[39;49m, \u001b[39m1\u001b[39;49m, \u001b[39mself\u001b[39;49m\u001b[39m.\u001b[39;49minit_obstacles_perlin,\n\u001b[1;32m     22\u001b[0m                          metadata\u001b[39m=\u001b[39;49m{\u001b[39m'\u001b[39;49m\u001b[39mdescription\u001b[39;49m\u001b[39m'\u001b[39;49m: \u001b[39m'\u001b[39;49m\u001b[39mContinuous obstacles with perlin noise\u001b[39;49m\u001b[39m'\u001b[39;49m})\n\u001b[1;32m     24\u001b[0m     \u001b[39mself\u001b[39m\u001b[39m.\u001b[39msim\u001b[39m.\u001b[39madd_channel(\u001b[39m\"\u001b[39m\u001b[39mports\u001b[39m\u001b[39m\"\u001b[39m, \u001b[39m1\u001b[39m, \u001b[39mself\u001b[39m\u001b[39m.\u001b[39minit_resources_levy,\n\u001b[1;32m     25\u001b[0m                          metadata\u001b[39m=\u001b[39m{\u001b[39m'\u001b[39m\u001b[39mdescription\u001b[39m\u001b[39m'\u001b[39m: \u001b[39m'\u001b[39m\u001b[39mCurrently +/- resources generated with levy dust\u001b[39m\u001b[39m'\u001b[39m,\n\u001b[1;32m     26\u001b[0m                                    \u001b[39m'\u001b[39m\u001b[39mmin_val\u001b[39m\u001b[39m'\u001b[39m: \u001b[39m-\u001b[39m\u001b[39m1\u001b[39m,\n\u001b[0;32m   (...)\u001b[0m\n\u001b[1;32m     32\u001b[0m                                    \u001b[39m'\u001b[39m\u001b[39mbeta_range\u001b[39m\u001b[39m'\u001b[39m: [\u001b[39m0.8\u001b[39m, \u001b[39m1.2\u001b[39m],\n\u001b[1;32m     33\u001b[0m                                    \u001b[39m'\u001b[39m\u001b[39mnum_sites_range\u001b[39m\u001b[39m'\u001b[39m: [\u001b[39m50\u001b[39m, \u001b[39m100\u001b[39m]})\n",
      "\u001b[0;31mTypeError\u001b[0m: Simulation.add_channel() got an unexpected keyword argument 'metadata'"
     ]
    }
   ],
   "source": [
    "import importlib\n",
    "import src.EINCASM as EINCASM\n",
    "importlib.reload(EINCASM)\n",
    "\n",
    "ein = EINCASM.EINCASM(\"config.yaml\")"
   ]
  },
  {
   "cell_type": "code",
   "execution_count": 149,
   "metadata": {},
   "outputs": [],
   "source": [
    "ein.sim.init_all_channels()"
   ]
  },
  {
   "cell_type": "code",
   "execution_count": 150,
   "metadata": {},
   "outputs": [
    {
     "data": {
      "text/plain": [
       "[]"
      ]
     },
     "execution_count": 150,
     "metadata": {},
     "output_type": "execute_result"
    }
   ],
   "source": [
    "ein.sim.channels"
   ]
  }
 ],
 "metadata": {
  "kernelspec": {
   "display_name": "cv",
   "language": "python",
   "name": "python3"
  },
  "language_info": {
   "codemirror_mode": {
    "name": "ipython",
    "version": 3
   },
   "file_extension": ".py",
   "mimetype": "text/x-python",
   "name": "python",
   "nbconvert_exporter": "python",
   "pygments_lexer": "ipython3",
   "version": "3.10.8"
  },
  "orig_nbformat": 4
 },
 "nbformat": 4,
 "nbformat_minor": 2
}
