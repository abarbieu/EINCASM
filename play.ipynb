{
 "cells": [
  {
   "cell_type": "code",
   "execution_count": 141,
   "metadata": {},
   "outputs": [
    {
     "name": "stdout",
     "output_type": "stream",
     "text": [
      "Radii:  [-1  2]\n",
      "CSA Mags:  [1 4]\n",
      "Radial Deltas:  [1 1]\n",
      "CSA Deltas:  [-1  5]\n",
      "Cyt:  5\n",
      "-------\n",
      "New CSA Mags:  [0. 4.]\n",
      "New Cyt:  6.0\n",
      "-------\n",
      "Cyt Desired:  5\n",
      "New CSA Mags:  [0. 9.]\n",
      "New Rads:  [0. 3.]\n",
      "New Cyt:  1.0\n"
     ]
    }
   ],
   "source": [
    "import numpy as np\n",
    "import torch\n",
    "\n",
    "cyt = 5\n",
    "efficiency = 1.0  # Efficiency of converting muscle <-> cyt\n",
    "rads = np.array([-1,2])   # single cell's muscles\n",
    "# masses = np.abs(rads)**2 * np.sign(radi)\n",
    "rad_deltas = np.array([1,1])\n",
    "activate_muscle_growth = np.vectorize(lambda rads, rad_deltas: (rads + rad_deltas)**2 - rads**2)\n",
    "csa_deltas = activate_muscle_growth(rads, rad_deltas) # cross-sectional area\n",
    "positive_csa_deltas = csa_deltas[csa_deltas > 0]\n",
    "negative_csa_deltas = csa_deltas[csa_deltas < 0]\n",
    "\n",
    "print(\"Radii: \", rads)\n",
    "print(\"CSA Mags: \", rads**2)\n",
    "print(\"Radial Deltas: \", rad_deltas)\n",
    "print(\"CSA Deltas: \", csa_deltas)\n",
    "print(\"Cyt: \", cyt)\n",
    "\n",
    "print(\"-------\")\n",
    "\n",
    "cyt -= sum(negative_csa_deltas) * efficiency\n",
    "new_csa_mags = rads**2.0\n",
    "new_csa_mags[csa_deltas < 0] += negative_csa_deltas\n",
    "print(\"New CSA Mags: \", new_csa_mags)\n",
    "print(\"New Cyt: \", cyt)\n",
    "\n",
    "print(\"-------\")\n",
    "\n",
    "cyt_desired = sum(positive_csa_deltas) # before efficiency loss\n",
    "csa_delta_distribution = positive_csa_deltas / cyt_desired\n",
    "\n",
    "if cyt_desired > cyt:\n",
    "    cyt_consumed = cyt\n",
    "else:\n",
    "    cyt_consumed = cyt_desired\n",
    "\n",
    "csa_grown = cyt_consumed * efficiency\n",
    "new_csa_mags[csa_deltas > 0] += csa_grown * csa_delta_distribution\n",
    "\n",
    "cyt -= cyt_consumed\n",
    "\n",
    "new_rad_mags = np.sqrt(new_csa_mags)\n",
    "new_signs = np.sign(rads + rad_deltas)\n",
    "\n",
    "print(\"Cyt Desired: \", cyt_desired)\n",
    "print(\"New CSA Mags: \", new_csa_mags)\n",
    "print(\"New Rads: \", new_rad_mags * new_signs)\n",
    "print(\"New Cyt: \", cyt)\n",
    "\n"
   ]
  },
  {
   "cell_type": "code",
   "execution_count": 140,
   "metadata": {},
   "outputs": [
    {
     "name": "stdout",
     "output_type": "stream",
     "text": [
      "Radii:  [-1  2]\n",
      "CSA Mags:  [1 4]\n",
      "Radial Deltas:  [1 1]\n",
      "CSA Deltas:  [-1  5]\n",
      "Cyt:  5\n",
      "-------\n",
      "New CSA Mags:  [0. 4.]\n",
      "New Cyt:  6.0\n",
      "-------\n",
      "Cyt Desired:  5\n",
      "New CSA Mags:  [0. 9.]\n",
      "New Rads:  [0. 3.]\n",
      "New Cyt:  1.0\n"
     ]
    },
    {
     "data": {
      "text/plain": [
       "(array([0., 3.]), 1.0)"
      ]
     },
     "execution_count": 140,
     "metadata": {},
     "output_type": "execute_result"
    }
   ],
   "source": [
    "activate_muscle_growth = np.vectorize(lambda rads, rad_deltas: (rads + rad_deltas)**2 - rads**2)\n",
    "def grow_muscle(rads, rad_deltas, cyt, efficiency):\n",
    "    csa_deltas = activate_muscle_growth(rads, rad_deltas) # cross-sectional area\n",
    "    positive_csa_deltas = csa_deltas[csa_deltas > 0]\n",
    "    negative_csa_deltas = csa_deltas[csa_deltas < 0]\n",
    "\n",
    "    cyt -= sum(negative_csa_deltas) * efficiency\n",
    "    new_csa_mags = rads**2.0\n",
    "    new_csa_mags[csa_deltas < 0] += negative_csa_deltas\n",
    "\n",
    "    cyt_desired = sum(positive_csa_deltas) # before efficiency loss\n",
    "    csa_delta_distribution = positive_csa_deltas / cyt_desired\n",
    "\n",
    "    if cyt_desired > cyt:\n",
    "        cyt_consumed = cyt\n",
    "    else:\n",
    "        cyt_consumed = cyt_desired\n",
    "\n",
    "    csa_grown = cyt_consumed * efficiency\n",
    "    new_csa_mags[csa_deltas > 0] += csa_grown * csa_delta_distribution\n",
    "\n",
    "    cyt -= cyt_consumed\n",
    "\n",
    "    new_rad_mags = np.sqrt(new_csa_mags)\n",
    "    new_signs = np.sign(rads + rad_deltas)\n",
    "\n",
    "    return new_rad_mags * new_signs, cyt\n",
    "\n",
    "cyt = 5\n",
    "efficiency = 1.0  # Efficiency of converting muscle <-> cyt\n",
    "rads = np.array([-1,2])   # single cell's muscles\n",
    "# masses = np.abs(rads)**2 * np.sign(radi)\n",
    "rad_deltas = np.array([1,1])\n",
    "grow_muscle(rads, rad_deltas, cyt, efficiency)"
   ]
  },
  {
   "cell_type": "code",
   "execution_count": 142,
   "metadata": {},
   "outputs": [
    {
     "ename": "RuntimeError",
     "evalue": "result type Float can't be cast to the desired output type Long",
     "output_type": "error",
     "traceback": [
      "\u001b[0;31m---------------------------------------------------------------------------\u001b[0m",
      "\u001b[0;31mRuntimeError\u001b[0m                              Traceback (most recent call last)",
      "Cell \u001b[0;32mIn[142], line 42\u001b[0m\n\u001b[1;32m     39\u001b[0m efficiency_batch \u001b[39m=\u001b[39m torch\u001b[39m.\u001b[39mtensor([\u001b[39m0.8\u001b[39m, \u001b[39m0.85\u001b[39m, \u001b[39m0.9\u001b[39m])\n\u001b[1;32m     41\u001b[0m \u001b[39m# Call the function with batched inputs\u001b[39;00m\n\u001b[0;32m---> 42\u001b[0m new_rads_batch, new_cyt_batch \u001b[39m=\u001b[39m grow_muscle(rads_batch, rad_deltas_batch, cyt_batch, efficiency_batch)\n",
      "Cell \u001b[0;32mIn[142], line 11\u001b[0m, in \u001b[0;36mgrow_muscle\u001b[0;34m(rads, rad_deltas, cyt, efficiency)\u001b[0m\n\u001b[1;32m      8\u001b[0m positive_csa_deltas \u001b[39m=\u001b[39m csa_deltas[csa_deltas \u001b[39m>\u001b[39m \u001b[39m0\u001b[39m]\n\u001b[1;32m      9\u001b[0m negative_csa_deltas \u001b[39m=\u001b[39m csa_deltas[csa_deltas \u001b[39m<\u001b[39m \u001b[39m0\u001b[39m]\n\u001b[0;32m---> 11\u001b[0m cyt \u001b[39m-\u001b[39m\u001b[39m=\u001b[39m torch\u001b[39m.\u001b[39msum(negative_csa_deltas) \u001b[39m*\u001b[39m efficiency\n\u001b[1;32m     12\u001b[0m new_csa_mags \u001b[39m=\u001b[39m rads\u001b[39m*\u001b[39m\u001b[39m*\u001b[39m\u001b[39m2.0\u001b[39m\n\u001b[1;32m     13\u001b[0m new_csa_mags[csa_deltas \u001b[39m<\u001b[39m \u001b[39m0\u001b[39m] \u001b[39m+\u001b[39m\u001b[39m=\u001b[39m negative_csa_deltas\n",
      "\u001b[0;31mRuntimeError\u001b[0m: result type Float can't be cast to the desired output type Long"
     ]
    }
   ],
   "source": [
    "import torch\n",
    "\n",
    "def activate_muscle_growth(rads, rad_deltas):\n",
    "    return (rads + rad_deltas)**2 - rads**2\n",
    "\n",
    "def grow_muscle(rads, rad_deltas, cyt, efficiency):\n",
    "    csa_deltas = activate_muscle_growth(rads, rad_deltas)\n",
    "    positive_csa_deltas = csa_deltas[csa_deltas > 0]\n",
    "    negative_csa_deltas = csa_deltas[csa_deltas < 0]\n",
    "\n",
    "    cyt -= torch.sum(negative_csa_deltas) * efficiency\n",
    "    new_csa_mags = rads**2.0\n",
    "    new_csa_mags[csa_deltas < 0] += negative_csa_deltas\n",
    "\n",
    "    cyt_desired = torch.sum(positive_csa_deltas)\n",
    "    csa_delta_distribution = positive_csa_deltas / cyt_desired\n",
    "\n",
    "    cyt_consumed = torch.where(cyt_desired > cyt, cyt, cyt_desired)\n",
    "\n",
    "    csa_grown = cyt_consumed * efficiency\n",
    "    new_csa_mags[csa_deltas > 0] += csa_grown * csa_delta_distribution\n",
    "\n",
    "    cyt -= cyt_consumed\n",
    "\n",
    "    new_rad_mags = torch.sqrt(new_csa_mags)\n",
    "    new_signs = torch.sign(rads + rad_deltas)\n",
    "\n",
    "    return new_rad_mags * new_signs, cyt\n",
    "\n",
    "# Define your batches\n",
    "rads_batch = torch.tensor([[0.2, 2, -3, 0.1, 0.1], [0.3, 2.5, -2, 0.2, 0.2], [0.4, 3, -1, 0.3, 0.3]])\n",
    "rad_deltas_batch = torch.tensor([[0.1, -0.2, 1, 3, 0.1], [0.2, -0.3, 2, 2, 0.2], [0.3, -0.4, 3, 1, 0.3]])\n",
    "cyt_batch = torch.tensor([2, 3, 4])\n",
    "efficiency_batch = torch.tensor([0.8, 0.85, 0.9])\n",
    "\n",
    "rads_batch = torch.tensor([[0.2, 2, -3, 0.1, 0.1], [0.3, 2.5, -2, 0.2, 0.2], [0.4, 3, -1, 0.3, 0.3]])\n",
    "rad_deltas_batch = torch.tensor([[0.1, -0.2, 1, 3, 0.1], [0.2, -0.3, 2, 2, 0.2], [0.3, -0.4, 3, 1, 0.3]])\n",
    "cyt_batch = torch.tensor([2, 3, 4])\n",
    "efficiency_batch = torch.tensor([0.8, 0.85, 0.9])\n",
    "\n",
    "# Call the function with batched inputs\n",
    "new_rads_batch, new_cyt_batch = grow_muscle(rads_batch, rad_deltas_batch, cyt_batch, efficiency_batch)"
   ]
  }
 ],
 "metadata": {
  "kernelspec": {
   "display_name": "bert",
   "language": "python",
   "name": "python3"
  },
  "language_info": {
   "codemirror_mode": {
    "name": "ipython",
    "version": 3
   },
   "file_extension": ".py",
   "mimetype": "text/x-python",
   "name": "python",
   "nbconvert_exporter": "python",
   "pygments_lexer": "ipython3",
   "version": "3.10.12"
  },
  "orig_nbformat": 4
 },
 "nbformat": 4,
 "nbformat_minor": 2
}
