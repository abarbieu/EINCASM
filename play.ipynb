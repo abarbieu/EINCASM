{
 "cells": [
  {
   "cell_type": "code",
   "execution_count": 209,
   "metadata": {},
   "outputs": [
    {
     "name": "stdout",
     "output_type": "stream",
     "text": [
      "[Taichi] Starting on arch=arm64\n"
     ]
    }
   ],
   "source": [
    "import taichi as ti\n",
    "import src_ti.Simulation as Simulation\n",
    "import importlib\n",
    "importlib.reload(Simulation)\n",
    "ti.init()\n",
    "\n",
    "flow_kernel = ti.Vector.field(2, dtype=ti.i8, shape=5)\n",
    "flow_kernel[0] = [0, 0]  # ORIGIN\n",
    "flow_kernel[1] = [-1, 0] # UP\n",
    "flow_kernel[2] = [0, 1]  # RIGHT\n",
    "flow_kernel[3] = [1, 0]  # DOWN\n",
    "flow_kernel[4] = [0, -1] # LEFT\n",
    "\n",
    "num_com = 10"
   ]
  },
  {
   "cell_type": "code",
   "execution_count": 212,
   "metadata": {},
   "outputs": [
    {
     "data": {
      "text/plain": [
       "{'com': array([[0., 0., 0., ..., 0., 0., 0.],\n",
       "        [0., 0., 0., ..., 0., 0., 0.],\n",
       "        [0., 0., 0., ..., 0., 0., 0.],\n",
       "        ...,\n",
       "        [0., 0., 0., ..., 0., 0., 0.],\n",
       "        [0., 0., 0., ..., 0., 0., 0.],\n",
       "        [0., 0., 0., ..., 0., 0., 0.]], dtype=float32),\n",
       " 'muscles': array([[0., 0., 0., ..., 0., 0., 0.],\n",
       "        [0., 0., 0., ..., 0., 0., 0.],\n",
       "        [0., 0., 0., ..., 0., 0., 0.],\n",
       "        ...,\n",
       "        [0., 0., 0., ..., 0., 0., 0.],\n",
       "        [0., 0., 0., ..., 0., 0., 0.],\n",
       "        [0., 0., 0., ..., 0., 0., 0.]], dtype=float32),\n",
       " 'macts': array([[0., 0., 0., ..., 0., 0., 0.],\n",
       "        [0., 0., 0., ..., 0., 0., 0.],\n",
       "        [0., 0., 0., ..., 0., 0., 0.],\n",
       "        ...,\n",
       "        [0., 0., 0., ..., 0., 0., 0.],\n",
       "        [0., 0., 0., ..., 0., 0., 0.],\n",
       "        [0., 0., 0., ..., 0., 0., 0.]], dtype=float32),\n",
       " 'gracts': array([[0., 0., 0., ..., 0., 0., 0.],\n",
       "        [0., 0., 0., ..., 0., 0., 0.],\n",
       "        [0., 0., 0., ..., 0., 0., 0.],\n",
       "        ...,\n",
       "        [0., 0., 0., ..., 0., 0., 0.],\n",
       "        [0., 0., 0., ..., 0., 0., 0.],\n",
       "        [0., 0., 0., ..., 0., 0., 0.]], dtype=float32),\n",
       " 'capital': array([[0., 0., 0., ..., 0., 0., 0.],\n",
       "        [0., 0., 0., ..., 0., 0., 0.],\n",
       "        [0., 0., 0., ..., 0., 0., 0.],\n",
       "        ...,\n",
       "        [0., 0., 0., ..., 0., 0., 0.],\n",
       "        [0., 0., 0., ..., 0., 0., 0.],\n",
       "        [0., 0., 0., ..., 0., 0., 0.]], dtype=float32),\n",
       " 'waste': array([[0., 0., 0., ..., 0., 0., 0.],\n",
       "        [0., 0., 0., ..., 0., 0., 0.],\n",
       "        [0., 0., 0., ..., 0., 0., 0.],\n",
       "        ...,\n",
       "        [0., 0., 0., ..., 0., 0., 0.],\n",
       "        [0., 0., 0., ..., 0., 0., 0.],\n",
       "        [0., 0., 0., ..., 0., 0., 0.]], dtype=float32),\n",
       " 'obstacle': array([[0., 0., 0., ..., 0., 0., 0.],\n",
       "        [0., 0., 0., ..., 0., 0., 0.],\n",
       "        [0., 0., 0., ..., 0., 0., 0.],\n",
       "        ...,\n",
       "        [0., 0., 0., ..., 0., 0., 0.],\n",
       "        [0., 0., 0., ..., 0., 0., 0.],\n",
       "        [0., 0., 0., ..., 0., 0., 0.]], dtype=float32),\n",
       " 'port': array([[0., 0., 0., ..., 0., 0., 0.],\n",
       "        [0., 0., 0., ..., 0., 0., 0.],\n",
       "        [0., 0., 0., ..., 0., 0., 0.],\n",
       "        ...,\n",
       "        [0., 0., 0., ..., 0., 0., 0.],\n",
       "        [0., 0., 0., ..., 0., 0., 0.],\n",
       "        [0., 0., 0., ..., 0., 0., 0.]], dtype=float32)}"
      ]
     },
     "execution_count": 212,
     "metadata": {},
     "output_type": "execute_result"
    }
   ],
   "source": [
    "\n",
    "sim = Simulation.Simulation(\n",
    "    'tst', (100,100),\n",
    "    channels={\n",
    "        'com': ti.types.vector(n=num_com, dtype=ti.f32),\n",
    "        'muscles': ti.types.struct(\n",
    "            flow=ti.types.vector(n=flow_kernel.shape[0], dtype=ti.f32),\n",
    "            port=ti.f32,\n",
    "            strength=ti.f32,),\n",
    "        'macts': ti.types.struct(\n",
    "            flow=ti.f32,\n",
    "            port=ti.f32,\n",
    "            mine=ti.f32),\n",
    "        'gracts': ti.types.struct(\n",
    "            flow=ti.types.vector(n=flow_kernel.shape[0], dtype=ti.f32),\n",
    "            port=ti.f32,\n",
    "            mine=ti.f32),\n",
    "        'capital':  {'lims': (0,10)},\n",
    "        'waste':    {'lims': (0,1)},\n",
    "        'obstacle': {'lims': (0,1)},\n",
    "        'port': {\n",
    "            'lims': (-1,10),\n",
    "            'metadata': {\n",
    "                'num_resources': 2,\n",
    "                'min_regen_amp': 0.5,\n",
    "                'max_regen_amp': 2,\n",
    "                'alpha_range': [0.4, 0.9],\n",
    "                'beta_range': [0.8, 1.2],\n",
    "                'num_sites_range': [2, 10]}},})\n",
    "\n",
    "sim.init_data()"
   ]
  },
  {
   "cell_type": "code",
   "execution_count": 90,
   "metadata": {},
   "outputs": [
    {
     "data": {
      "text/plain": [
       "(2, 2)"
      ]
     },
     "execution_count": 90,
     "metadata": {},
     "output_type": "execute_result"
    }
   ],
   "source": [
    "cfield = ti.Struct.field({\n",
    "    \"x\": ti.f32,\n",
    "    \"a\": ti.types.vector(2, dtype=ti.f32),\n",
    "  }, shape = (2,2))\n",
    "\n",
    "cfield.shape"
   ]
  }
 ],
 "metadata": {
  "kernelspec": {
   "display_name": "cv",
   "language": "python",
   "name": "python3"
  },
  "language_info": {
   "codemirror_mode": {
    "name": "ipython",
    "version": 3
   },
   "file_extension": ".py",
   "mimetype": "text/x-python",
   "name": "python",
   "nbconvert_exporter": "python",
   "pygments_lexer": "ipython3",
   "version": "3.10.8"
  },
  "orig_nbformat": 4
 },
 "nbformat": 4,
 "nbformat_minor": 2
}
