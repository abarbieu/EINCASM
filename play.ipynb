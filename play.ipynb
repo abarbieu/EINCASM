{
 "cells": [
  {
   "cell_type": "code",
   "execution_count": 1,
   "metadata": {},
   "outputs": [
    {
     "name": "stdout",
     "output_type": "stream",
     "text": [
      "[Taichi] version 1.7.0, llvm 15.0.7, commit 6b563a2a, osx, python 3.10.8\n",
      "[Taichi] Starting on arch=arm64\n"
     ]
    },
    {
     "name": "stderr",
     "output_type": "stream",
     "text": [
      "[I 10/22/23 11:02:36.459 11152024] [shell.py:_shell_pop_print@23] Graphical python shell detected, using wrapped sys.stdout\n"
     ]
    }
   ],
   "source": [
    "import taichi as ti\n",
    "import src_ti.Simulation as Simulation\n",
    "import importlib\n",
    "importlib.reload(Simulation)\n",
    "ti.init()\n",
    "\n",
    "flow_kernel = ti.Vector.field(2, dtype=ti.i8, shape=5)\n",
    "flow_kernel[0] = [0, 0]  # ORIGIN\n",
    "flow_kernel[1] = [-1, 0] # UP\n",
    "flow_kernel[2] = [0, 1]  # RIGHT\n",
    "flow_kernel[3] = [1, 0]  # DOWN\n",
    "flow_kernel[4] = [0, -1] # LEFT\n",
    "\n",
    "num_com = 3\n"
   ]
  },
  {
   "cell_type": "code",
   "execution_count": 2,
   "metadata": {},
   "outputs": [
    {
     "data": {
      "text/plain": [
       "tensor([[[0., 0.],\n",
       "         [0., 0.],\n",
       "         [0., 0.]],\n",
       "\n",
       "        [[0., 0.],\n",
       "         [0., 0.],\n",
       "         [0., 0.]],\n",
       "\n",
       "        [[0., 0.],\n",
       "         [0., 0.],\n",
       "         [0., 0.]]])"
      ]
     },
     "execution_count": 2,
     "metadata": {},
     "output_type": "execute_result"
    }
   ],
   "source": [
    "f = ti.Vector.field(n=2, dtype=float, shape=(3, 3))\n",
    "f.to_torch()\n"
   ]
  },
  {
   "cell_type": "code",
   "execution_count": 3,
   "metadata": {},
   "outputs": [
    {
     "data": {
      "text/plain": [
       "<taichi.lang.struct.StructType at 0x15af13610>"
      ]
     },
     "execution_count": 3,
     "metadata": {},
     "output_type": "execute_result"
    }
   ],
   "source": [
    "ti.types.struct(**{'a': ti.f32, 'b': ti.types.vector(n=5, dtype=ti.f32)})"
   ]
  },
  {
   "cell_type": "code",
   "execution_count": 4,
   "metadata": {},
   "outputs": [],
   "source": [
    "\n",
    "sim = Simulation.Simulation(\n",
    "    'tst', (100,100),\n",
    "    channels={\n",
    "        'com': ti.types.vector(n=num_com, dtype=ti.f32),\n",
    "        'muscles': ti.types.struct(\n",
    "            flow=ti.types.vector(n=flow_kernel.shape[0], dtype=ti.f32),\n",
    "            port=ti.f32,\n",
    "            strength=ti.f32,),\n",
    "        'macts': ti.types.struct(\n",
    "            flow=ti.f32,\n",
    "            port=ti.f32,\n",
    "            mine=ti.f32),\n",
    "        'gracts': ti.types.struct(\n",
    "            flow=ti.types.vector(n=flow_kernel.shape[0], dtype=ti.f32),\n",
    "            port=ti.f32,\n",
    "            mine=ti.f32),\n",
    "        'capital':  {'lims': (0,10)},\n",
    "        'waste':    {'lims': (0,1)},\n",
    "        'obstacle': {'lims': (0,1)},\n",
    "        'port': {\n",
    "            'lims': (-1,10),\n",
    "            'metadata': {\n",
    "                'num_resources': 2,\n",
    "                'min_regen_amp': 0.5,\n",
    "                'max_regen_amp': 2,\n",
    "                'alpha_range': [0.4, 0.9],\n",
    "                'beta_range': [0.8, 1.2],\n",
    "                'num_sites_range': [2, 10]}},})\n",
    "\n",
    "sim.init_data()"
   ]
  },
  {
   "cell_type": "code",
   "execution_count": 6,
   "metadata": {},
   "outputs": [
    {
     "data": {
      "text/plain": [
       "torch.Size([256, 512, 3, 4])"
      ]
     },
     "execution_count": 6,
     "metadata": {},
     "output_type": "execute_result"
    }
   ],
   "source": [
    "field = ti.Matrix.field(3, 4, ti.i32, shape=(256, 512))\n",
    "field.shape  # (256, 512)\n",
    "field.n      # 3\n",
    "field.m      # 4\n",
    "\n",
    "array = field.to_torch()\n",
    "array.shape  # (256, 512, 3, 4)\n",
    "\n",
    "# field.from_torch(array)  # the input array must be of shape (256, 512, 3, 4)"
   ]
  },
  {
   "cell_type": "code",
   "execution_count": 10,
   "metadata": {},
   "outputs": [
    {
     "data": {
      "text/plain": [
       "{'a': tensor([[0, 0, 0,  ..., 0, 0, 0],\n",
       "         [0, 0, 0,  ..., 0, 0, 0],\n",
       "         [0, 0, 0,  ..., 0, 0, 0],\n",
       "         ...,\n",
       "         [0, 0, 0,  ..., 0, 0, 0],\n",
       "         [0, 0, 0,  ..., 0, 0, 0],\n",
       "         [0, 0, 0,  ..., 0, 0, 0]], dtype=torch.int32),\n",
       " 'b': tensor([[[0., 0., 0.],\n",
       "          [0., 0., 0.],\n",
       "          [0., 0., 0.],\n",
       "          ...,\n",
       "          [0., 0., 0.],\n",
       "          [0., 0., 0.],\n",
       "          [0., 0., 0.]],\n",
       " \n",
       "         [[0., 0., 0.],\n",
       "          [0., 0., 0.],\n",
       "          [0., 0., 0.],\n",
       "          ...,\n",
       "          [0., 0., 0.],\n",
       "          [0., 0., 0.],\n",
       "          [0., 0., 0.]],\n",
       " \n",
       "         [[0., 0., 0.],\n",
       "          [0., 0., 0.],\n",
       "          [0., 0., 0.],\n",
       "          ...,\n",
       "          [0., 0., 0.],\n",
       "          [0., 0., 0.],\n",
       "          [0., 0., 0.]],\n",
       " \n",
       "         ...,\n",
       " \n",
       "         [[0., 0., 0.],\n",
       "          [0., 0., 0.],\n",
       "          [0., 0., 0.],\n",
       "          ...,\n",
       "          [0., 0., 0.],\n",
       "          [0., 0., 0.],\n",
       "          [0., 0., 0.]],\n",
       " \n",
       "         [[0., 0., 0.],\n",
       "          [0., 0., 0.],\n",
       "          [0., 0., 0.],\n",
       "          ...,\n",
       "          [0., 0., 0.],\n",
       "          [0., 0., 0.],\n",
       "          [0., 0., 0.]],\n",
       " \n",
       "         [[0., 0., 0.],\n",
       "          [0., 0., 0.],\n",
       "          [0., 0., 0.],\n",
       "          ...,\n",
       "          [0., 0., 0.],\n",
       "          [0., 0., 0.],\n",
       "          [0., 0., 0.]]])}"
      ]
     },
     "execution_count": 10,
     "metadata": {},
     "output_type": "execute_result"
    }
   ],
   "source": [
    "field = ti.Struct.field({'a': ti.i32, 'b': ti.types.vector(3, float)}, shape=(256, 512))\n",
    "field.shape # (256, 512)\n",
    "\n",
    "array_dict = field.to_torch()\n",
    "array_dict\n",
    "\n",
    "# array_dict['a'].shape # (256, 512)\n",
    "# array_dict['b'].shape # (256, 512, 3)\n",
    "\n",
    "# field.from_numpy(array_dict) # the input array must have the same keys as the field"
   ]
  },
  {
   "cell_type": "code",
   "execution_count": 90,
   "metadata": {},
   "outputs": [
    {
     "data": {
      "text/plain": [
       "(2, 2)"
      ]
     },
     "execution_count": 90,
     "metadata": {},
     "output_type": "execute_result"
    }
   ],
   "source": [
    "cfield = ti.Struct.field({\n",
    "    \"x\": ti.f32,\n",
    "    \"a\": ti.types.vector(2, dtype=ti.f32),\n",
    "  }, shape = (2,2))\n",
    "\n",
    "cfield.shape"
   ]
  }
 ],
 "metadata": {
  "kernelspec": {
   "display_name": "cv",
   "language": "python",
   "name": "python3"
  },
  "language_info": {
   "codemirror_mode": {
    "name": "ipython",
    "version": 3
   },
   "file_extension": ".py",
   "mimetype": "text/x-python",
   "name": "python",
   "nbconvert_exporter": "python",
   "pygments_lexer": "ipython3",
   "version": "3.10.8"
  },
  "orig_nbformat": 4
 },
 "nbformat": 4,
 "nbformat_minor": 2
}
