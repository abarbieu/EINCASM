{
 "cells": [
  {
   "cell_type": "code",
   "execution_count": 3,
   "metadata": {},
   "outputs": [
    {
     "name": "stdout",
     "output_type": "stream",
     "text": [
      "[Taichi] Starting on arch=metal\n"
     ]
    }
   ],
   "source": [
    "import importlib\n",
    "import numpy as np\n",
    "import taichi as ti\n",
    "import torch\n",
    "from src_ti.eincasm import eincasm\n",
    "from src_ti.PixelVis import PixelVis\n",
    "from src_ti.Vis import Vis\n",
    "import src_ti.physics as physics\n",
    "\n",
    "ti.init(arch=ti.gpu)"
   ]
  },
  {
   "cell_type": "code",
   "execution_count": 4,
   "metadata": {},
   "outputs": [
    {
     "name": "stderr",
     "output_type": "stream",
     "text": [
      "/Users/aidanbx/CS/EINCASM/src_ti/eincasm.py:36: UserWarning: \u001b[93mWorld: Casting portmap of dtype: torch.int8 to world dtype: torch.float32\u001b[0m\n",
      "  self.world.malloc()\n"
     ]
    }
   ],
   "source": [
    "ein = eincasm(shape=(400,400), torch_device=torch.device('mps'))\n",
    "chids = [('com', 'r'), ('com', 'g'), ('com', 'b')]"
   ]
  },
  {
   "cell_type": "code",
   "execution_count": 60,
   "metadata": {},
   "outputs": [
    {
     "data": {
      "text/plain": [
       "taichi.lang.matrix.Vector"
      ]
     },
     "execution_count": 60,
     "metadata": {},
     "output_type": "execute_result"
    }
   ],
   "source": []
  }
 ],
 "metadata": {
  "kernelspec": {
   "display_name": "cv",
   "language": "python",
   "name": "python3"
  },
  "language_info": {
   "codemirror_mode": {
    "name": "ipython",
    "version": 3
   },
   "file_extension": ".py",
   "mimetype": "text/x-python",
   "name": "python",
   "nbconvert_exporter": "python",
   "pygments_lexer": "ipython3",
   "version": "3.10.8"
  }
 },
 "nbformat": 4,
 "nbformat_minor": 2
}
