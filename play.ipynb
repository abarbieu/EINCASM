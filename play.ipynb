{
 "cells": [
  {
   "cell_type": "code",
   "execution_count": 26,
   "metadata": {},
   "outputs": [
    {
     "data": {
      "text/plain": [
       "(tensor([[ 0.0000,  2.8284],\n",
       "         [-2.0000,  0.0000],\n",
       "         [-1.9235, -2.0000],\n",
       "         [ 4.3275,  5.6809]]),\n",
       " tensor([ 0.8000, 14.0500,  1.0000,  0.0000]))"
      ]
     },
     "execution_count": 26,
     "metadata": {},
     "output_type": "execute_result"
    }
   ],
   "source": [
    "import torch\n",
    "\n",
    "\n",
    "# Define your batches\n",
    "rads_b = torch.tensor([[-1,2],[-4,1],[1,2],[4,5]], dtype=torch.float32)\n",
    "rad_deltas_b = torch.tensor([[1,1],[2,-1],[-3,-4],[1,2]], dtype=torch.float32)\n",
    "cyt_b = torch.tensor([5.0, 3.0, 4.0, 10.0], dtype=torch.float32)\n",
    "efficiency_b = torch.tensor([0.8, 0.85, 0.9, 1.0], dtype=torch.float32)\n",
    "\n",
    "def grow_torch(rads_b, rad_deltas_b, cyt_b, efficiency_b):\n",
    "    csa_deltas_b = (rads_b + rad_deltas_b)**2 - rads_b**2 # cross-sectional area\n",
    "\n",
    "    # Print initial batches\n",
    "    # print(\"\\nR: \\n\", rads_b)\n",
    "    # print(\"\\nCSA Mags: \\n\", rads_b**2)\n",
    "    # print(\"\\ndR: \\n\", rad_deltas_b)\n",
    "    # print(\"\\nCSA Deltas: \\n\", csa_deltas_b)\n",
    "    # print(\"\\nCyt: \\n\", cyt_b)\n",
    "\n",
    "    # print(\"-------\")\n",
    "\n",
    "    # Atrophy muscle and convert to cyt\n",
    "    cyt_b -= torch.sum(torch.where(csa_deltas_b < 0, csa_deltas_b, torch.tensor(0.0)),dim=1) * efficiency_b\n",
    "\n",
    "    new_csa_mags_b = rads_b**2.0\n",
    "    new_csa_mags_b[csa_deltas_b < 0] += csa_deltas_b[csa_deltas_b < 0]\n",
    "\n",
    "    # print(\"\\nNew CSA mags: \\n\", new_csa_mags_b)\n",
    "    # print(\"\\nCyt after atrophy: \\n\", cyt_b)\n",
    "\n",
    "    # print(\"-------\")\n",
    "\n",
    "    # Grow myscle from cyt, if possible\n",
    "    cyt_desired_b = torch.sum(torch.where(csa_deltas_b > 0, csa_deltas_b, torch.tensor(0.0)),dim=1)\n",
    "    csa_delta_distribution_b = torch.where(csa_deltas_b > 0, csa_deltas_b, torch.tensor(0.0)) / cyt_desired_b.unsqueeze(1)\n",
    "\n",
    "    cyt_consumed_b = torch.where(cyt_desired_b > cyt_b, cyt_b, cyt_desired_b)\n",
    "    csa_grown_b = cyt_consumed_b * efficiency_b\n",
    "    new_csa_mags_b = torch.where(csa_deltas_b > 0, new_csa_mags_b + csa_grown_b.unsqueeze(1) * csa_delta_distribution_b, new_csa_mags_b)\n",
    "\n",
    "    cyt_b -= cyt_consumed_b\n",
    "\n",
    "    new_rad_mags_b = torch.sqrt(new_csa_mags_b)\n",
    "    new_signs = torch.sign(rads_b + rad_deltas_b)\n",
    "\n",
    "    # print(\"\\nCyt Desired: \\n\", cyt_desired_b)\n",
    "    # print(\"\\nNew CSA Mags: \\n\", new_csa_mags_b)\n",
    "    # print(\"\\nNew Rads: \\n\", new_rad_mags_b * new_signs)\n",
    "    # print(\"\\nNew Cyt: \\n\", cyt_b)\n",
    "    return new_rad_mags_b * new_signs, cyt_b\n",
    "\n",
    "grow_torch(rads_b, rad_deltas_b, cyt_b, efficiency_b)\n"
   ]
  },
  {
   "cell_type": "code",
   "execution_count": 28,
   "metadata": {},
   "outputs": [
    {
     "name": "stdout",
     "output_type": "stream",
     "text": [
      "0.0012755818367004394\n"
     ]
    }
   ],
   "source": [
    "rads_batch = torch.randn(10000,5)\n",
    "rad_deltas_batch = torch.randn(10000,5)\n",
    "cyt_batch = torch.randn(10000)\n",
    "efficiency_batch = torch.randn(10000)\n",
    "\n",
    "import time \n",
    "start = time.time()\n",
    "for i in range(1000):\n",
    "    grow_torch(rads_batch, rad_deltas_batch, cyt_batch, efficiency_batch)\n",
    "print((time.time() - start)/1000)"
   ]
  }
 ],
 "metadata": {
  "kernelspec": {
   "display_name": "bert",
   "language": "python",
   "name": "python3"
  },
  "language_info": {
   "codemirror_mode": {
    "name": "ipython",
    "version": 3
   },
   "file_extension": ".py",
   "mimetype": "text/x-python",
   "name": "python",
   "nbconvert_exporter": "python",
   "pygments_lexer": "ipython3",
   "version": "3.10.8"
  },
  "orig_nbformat": 4
 },
 "nbformat": 4,
 "nbformat_minor": 2
}
