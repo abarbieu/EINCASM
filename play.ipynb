{
 "cells": [
  {
   "cell_type": "code",
   "execution_count": 2,
   "metadata": {},
   "outputs": [
    {
     "name": "stdout",
     "output_type": "stream",
     "text": [
      "[Taichi] version 1.7.0, llvm 15.0.7, commit 6b563a2a, osx, python 3.10.8\n"
     ]
    },
    {
     "name": "stderr",
     "output_type": "stream",
     "text": [
      "[I 10/23/23 19:00:42.646 24631] [shell.py:_shell_pop_print@23] Graphical python shell detected, using wrapped sys.stdout\n"
     ]
    },
    {
     "name": "stdout",
     "output_type": "stream",
     "text": [
      "[Taichi] Starting on arch=arm64\n"
     ]
    }
   ],
   "source": [
    "import taichi as ti\n",
    "import torch\n",
    "import src_ti.simulation as simulation\n",
    "import importlib\n",
    "importlib.reload(simulation)\n",
    "ti.init()\n",
    "\n",
    "flow_kernel = ti.Vector.field(2, dtype=ti.i8, shape=5)\n",
    "flow_kernel[0] = [0, 0]  # ORIGIN\n",
    "flow_kernel[1] = [-1, 0] # UP\n",
    "flow_kernel[2] = [0, 1]  # RIGHT\n",
    "flow_kernel[3] = [1, 0]  # DOWN\n",
    "flow_kernel[4] = [0, -1] # LEFT\n",
    "\n",
    "num_com = 3\n"
   ]
  },
  {
   "cell_type": "code",
   "execution_count": 3,
   "metadata": {},
   "outputs": [
    {
     "name": "stdout",
     "output_type": "stream",
     "text": [
      "torch.Size([5, 10, 3, 3])\n"
     ]
    }
   ],
   "source": [
    "import torch.nn as nn\n",
    "w,h, = 100,100\n",
    "class NCA():\n",
    "    def __init__(self):\n",
    "        self.conv = nn.Conv2d(\n",
    "            10,\n",
    "            5,\n",
    "            kernel_size=3,\n",
    "            padding=1,\n",
    "            padding_mode='circular'\n",
    "        )\n",
    "\n",
    "    def forward(self, x):\n",
    "        # Apply the convolutional layer\n",
    "        x = self.conv(x)\n",
    "        \n",
    "        x = nn.ReLU()(x)\n",
    "        x = nn.BatchNorm2d(x.shape[1])(x)\n",
    "        x = torch.sigmoid(x)\n",
    "        x[:, 0:3, 45:65, 45:65] = 1.0\n",
    "\n",
    "nca = NCA()\n",
    "weights = nca.conv.weight.data\n",
    "print(weights.shape)\n",
    "\n",
    "state = ti.field(dtype=ti.f32, shape=(w, h, num_com))\n",
    "\n",
    "@ti.kernel\n",
    "def conv(state: ti.types.ndarray(), kernel: ti.types.ndarray(), out: ti.types.ndarray()):\n",
    "    for i, j in state:\n",
    "        for k in ti.static(range(5)):\n",
    "            out[i, j] += kernel[k] * state[i + kernel[k][0], j + kernel[k][1]]\n"
   ]
  },
  {
   "cell_type": "code",
   "execution_count": 5,
   "metadata": {},
   "outputs": [
    {
     "data": {
      "text/plain": [
       "(tensor([[-0.7078,  0.5516,  1.3847],\n",
       "         [-1.5035, -0.2386,  0.3490]]),\n",
       " tensor([[ 1.0000e+04,  5.5160e-01,  1.3847e+00],\n",
       "         [-1.5035e+00, -2.3859e-01,  3.4899e-01],\n",
       "         [-7.0777e-01,  5.5160e-01,  1.3847e+00],\n",
       "         [-1.5035e+00, -2.3859e-01,  3.4899e-01],\n",
       "         [-7.0777e-01,  5.5160e-01,  1.3847e+00],\n",
       "         [-1.5035e+00, -2.3859e-01,  3.4899e-01]]))"
      ]
     },
     "execution_count": 5,
     "metadata": {},
     "output_type": "execute_result"
    }
   ],
   "source": [
    "x = torch.randn(2, 3)\n",
    "xa = torch.cat((x, x, x), 0)\n",
    "xa[0,0] = 10000\n",
    "x, xa"
   ]
  },
  {
   "cell_type": "code",
   "execution_count": 16,
   "metadata": {},
   "outputs": [],
   "source": [
    "c = ti.types.struct(**{\n",
    "    'a': ti.f32,\n",
    "    'b': ti.types.vector(n=5, dtype=ti.f32),\n",
    "    'c': ti.i8})\n",
    "\n",
    "cfield = c.field(shape=(4,4))\n",
    "cfield.to_torch()\n",
    "\n",
    "mem = torch.empty((4,4,7), dtype = torch.f32)\n"
   ]
  },
  {
   "cell_type": "code",
   "execution_count": 4,
   "metadata": {},
   "outputs": [],
   "source": [
    "\n",
    "sim = simulation.Simulation(\n",
    "    'tst', (100,100),\n",
    "    channels={\n",
    "        'com': ti.types.vector(n=num_com, dtype=ti.f32),\n",
    "        'muscles': ti.types.struct(\n",
    "            flow=ti.types.vector(n=flow_kernel.shape[0], dtype=ti.f32),\n",
    "            port=ti.f32,\n",
    "            strength=ti.f32,),\n",
    "        'macts': ti.types.struct(\n",
    "            flow=ti.f32,\n",
    "            port=ti.f32,\n",
    "            mine=ti.f32),\n",
    "        'gracts': ti.types.struct(\n",
    "            flow=ti.types.vector(n=flow_kernel.shape[0], dtype=ti.f32),\n",
    "            port=ti.f32,\n",
    "            mine=ti.f32),\n",
    "        'capital':  {'lims': (0,10)},\n",
    "        'waste':    {'lims': (0,1)},\n",
    "        'obstacle': {'lims': (0,1)},\n",
    "        'port': {\n",
    "            'lims': (-1,10),\n",
    "            'metadata': {\n",
    "                'num_resources': 2,\n",
    "                'min_regen_amp': 0.5,\n",
    "                'max_regen_amp': 2,\n",
    "                'alpha_range': [0.4, 0.9],\n",
    "                'beta_range': [0.8, 1.2],\n",
    "                'num_sites_range': [2, 10]}},})\n",
    "\n",
    "sim.init_data()"
   ]
  },
  {
   "cell_type": "code",
   "execution_count": 5,
   "metadata": {},
   "outputs": [
    {
     "ename": "TypeError",
     "evalue": "unhashable type: 'list'",
     "output_type": "error",
     "traceback": [
      "\u001b[0;31m---------------------------------------------------------------------------\u001b[0m",
      "\u001b[0;31mTypeError\u001b[0m                                 Traceback (most recent call last)",
      "Cell \u001b[0;32mIn[5], line 2\u001b[0m\n\u001b[1;32m      1\u001b[0m d \u001b[39m=\u001b[39m {\u001b[39m'\u001b[39m\u001b[39ma\u001b[39m\u001b[39m'\u001b[39m: \u001b[39m2\u001b[39m, \u001b[39m'\u001b[39m\u001b[39mb\u001b[39m\u001b[39m'\u001b[39m: \u001b[39m3\u001b[39m}\n\u001b[0;32m----> 2\u001b[0m d[[\u001b[39m'\u001b[39;49m\u001b[39ma\u001b[39;49m\u001b[39m'\u001b[39;49m, \u001b[39m'\u001b[39;49m\u001b[39mb\u001b[39;49m\u001b[39m'\u001b[39;49m]]\n",
      "\u001b[0;31mTypeError\u001b[0m: unhashable type: 'list'"
     ]
    }
   ],
   "source": [
    "d = {'a': 2, 'b': 3}\n",
    "d[['a', 'b']]"
   ]
  },
  {
   "cell_type": "code",
   "execution_count": 22,
   "metadata": {},
   "outputs": [
    {
     "data": {
      "text/plain": [
       "torch.Size([3, 256, 512])"
      ]
     },
     "execution_count": 22,
     "metadata": {},
     "output_type": "execute_result"
    }
   ],
   "source": [
    "field = ti.Vector.field(3, ti.i32, shape=(256, 512))\n",
    "field.shape  # (256, 512)\n",
    "field.n      # 3\n",
    "\n",
    "array = field.to_torch().permute(2, 0, 1)\n",
    "array.shape  # (3, 256, 512)\n",
    "\n",
    "# field.from_torch(array)  # the input array must be of shape (256, 512, 3)"
   ]
  },
  {
   "cell_type": "code",
   "execution_count": 10,
   "metadata": {},
   "outputs": [
    {
     "data": {
      "text/plain": [
       "{'a': tensor([[0, 0, 0,  ..., 0, 0, 0],\n",
       "         [0, 0, 0,  ..., 0, 0, 0],\n",
       "         [0, 0, 0,  ..., 0, 0, 0],\n",
       "         ...,\n",
       "         [0, 0, 0,  ..., 0, 0, 0],\n",
       "         [0, 0, 0,  ..., 0, 0, 0],\n",
       "         [0, 0, 0,  ..., 0, 0, 0]], dtype=torch.int32),\n",
       " 'b': tensor([[[0., 0., 0.],\n",
       "          [0., 0., 0.],\n",
       "          [0., 0., 0.],\n",
       "          ...,\n",
       "          [0., 0., 0.],\n",
       "          [0., 0., 0.],\n",
       "          [0., 0., 0.]],\n",
       " \n",
       "         [[0., 0., 0.],\n",
       "          [0., 0., 0.],\n",
       "          [0., 0., 0.],\n",
       "          ...,\n",
       "          [0., 0., 0.],\n",
       "          [0., 0., 0.],\n",
       "          [0., 0., 0.]],\n",
       " \n",
       "         [[0., 0., 0.],\n",
       "          [0., 0., 0.],\n",
       "          [0., 0., 0.],\n",
       "          ...,\n",
       "          [0., 0., 0.],\n",
       "          [0., 0., 0.],\n",
       "          [0., 0., 0.]],\n",
       " \n",
       "         ...,\n",
       " \n",
       "         [[0., 0., 0.],\n",
       "          [0., 0., 0.],\n",
       "          [0., 0., 0.],\n",
       "          ...,\n",
       "          [0., 0., 0.],\n",
       "          [0., 0., 0.],\n",
       "          [0., 0., 0.]],\n",
       " \n",
       "         [[0., 0., 0.],\n",
       "          [0., 0., 0.],\n",
       "          [0., 0., 0.],\n",
       "          ...,\n",
       "          [0., 0., 0.],\n",
       "          [0., 0., 0.],\n",
       "          [0., 0., 0.]],\n",
       " \n",
       "         [[0., 0., 0.],\n",
       "          [0., 0., 0.],\n",
       "          [0., 0., 0.],\n",
       "          ...,\n",
       "          [0., 0., 0.],\n",
       "          [0., 0., 0.],\n",
       "          [0., 0., 0.]]])}"
      ]
     },
     "execution_count": 10,
     "metadata": {},
     "output_type": "execute_result"
    }
   ],
   "source": [
    "field = ti.Struct.field({'a': ti.i32, 'b': ti.types.vector(3, float)}, shape=(256, 512))\n",
    "field.shape # (256, 512)\n",
    "\n",
    "array_dict = field.to_torch()\n",
    "array_dict\n",
    "\n",
    "# array_dict['a'].shape # (256, 512)\n",
    "# array_dict['b'].shape # (256, 512, 3)\n",
    "\n",
    "# field.from_numpy(array_dict) # the input array must have the same keys as the field"
   ]
  }
 ],
 "metadata": {
  "kernelspec": {
   "display_name": "cv",
   "language": "python",
   "name": "python3"
  },
  "language_info": {
   "codemirror_mode": {
    "name": "ipython",
    "version": 3
   },
   "file_extension": ".py",
   "mimetype": "text/x-python",
   "name": "python",
   "nbconvert_exporter": "python",
   "pygments_lexer": "ipython3",
   "version": "3.10.8"
  },
  "orig_nbformat": 4
 },
 "nbformat": 4,
 "nbformat_minor": 2
}
