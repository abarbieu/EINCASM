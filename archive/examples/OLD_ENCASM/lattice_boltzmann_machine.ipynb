{
 "cells": [
  {
   "cell_type": "code",
   "execution_count": null,
   "metadata": {},
   "outputs": [],
   "source": [
    "# Example of utils.videowriter \n",
    "from importlib import reload\n",
    "\n",
    "import utils.videowriter\n",
    "reload(utils.videowriter)\n",
    "from utils.videowriter import VideoWriter"
   ]
  },
  {
   "cell_type": "code",
   "execution_count": null,
   "metadata": {},
   "outputs": [],
   "source": [
    "import numpy as np\n",
    "import matplotlib.pyplot as plt\n",
    "from time import time as ti\n",
    "from matplotlib import cm\n",
    "from tqdm import tqdm"
   ]
  },
  {
   "cell_type": "code",
   "execution_count": null,
   "metadata": {},
   "outputs": [],
   "source": [
    "def macroscopic(fin, nx, ny, v):\n",
    "    rho = np.sum(fin,axis=0)\n",
    "    u = np.zeros((2,nx,ny))\n",
    "    for i in range(9):\n",
    "        u[0,:,:] += v[i,0]*fin[i,:,:]\n",
    "        u[1,:,:] += v[i,1]*fin[i,:,:]\n",
    "    u /= rho\n",
    "    return rho, u"
   ]
  },
  {
   "cell_type": "code",
   "execution_count": null,
   "metadata": {},
   "outputs": [],
   "source": [
    "def equilibrium(rho, u, v, t, nx, ny):\n",
    "    usqr = (3/2)*(u[0]**2+u[1]**2)\n",
    "    feq = np.zeros((9,nx,ny))\n",
    "    for i in range(9):\n",
    "        cu = 3*(v[i,0]*u[0,:,:] + v[i,1]*u[1,:,:])\n",
    "        feq[i,:,:] = rho*t[i]*(1+cu+0.5*cu**2-usqr)\n",
    "    return feq"
   ]
  },
  {
   "cell_type": "code",
   "execution_count": null,
   "metadata": {},
   "outputs": [],
   "source": [
    "def obstacle_fun(cx, cy, r):\n",
    "    def inner(x, y):\n",
    "        return (x-cx)**2+(y-cy)**2<r**2\n",
    "    return inner\n"
   ]
  },
  {
   "cell_type": "code",
   "execution_count": null,
   "metadata": {},
   "outputs": [],
   "source": [
    "def inivel( uLB, ly):\n",
    "    def inner(d,x,y):\n",
    "        return (1-d) * uLB * (1+1e-4*np.sin(y/ly*2*np.pi))\n",
    "    return inner\n",
    "\n",
    "# inlet_vel = 0.1\n",
    "# ly = 1\n",
    "\n",
    "# np.fromfunction(inivel(0.1, 1), (2, 10, 10))"
   ]
  },
  {
   "cell_type": "code",
   "execution_count": null,
   "metadata": {},
   "outputs": [],
   "source": [
    "# d=2\n",
    "# uLB=0.04\n",
    "# ly=99\n",
    "# y=99\n",
    "\n",
    "# (1-d) - (1+1e-4*np.sin(y/ly*2*np.pi))"
   ]
  },
  {
   "cell_type": "code",
   "execution_count": null,
   "metadata": {},
   "outputs": [],
   "source": [
    "Re = 10.0                  # Reynolds number\n",
    "#------------------------------------------------------------------------------\n",
    "maxIter = 1000\n",
    "nx,ny = 15,15             # Domain dimensions\n",
    "ly = ny-1\n",
    "uLB = 0.04                  # Inlet velocity NON PHYSICAL??\n",
    "cx,cy,r = nx//4,ny//2,ny/9  # cylinder coordinates and radius (as integers)\n",
    "nulb = uLB*r/Re             # Viscosity\n",
    "omega = True / (3*nulb+0.5)    # Relaxation parameter\n",
    "\n",
    "# lattice velocities\n",
    "v = np.array([ \n",
    "            [1,1],\n",
    "            [1,0],\n",
    "            [1,-1],\n",
    "            [0,1],\n",
    "            [0,0],\n",
    "            [0,-1],\n",
    "            [-1,1],\n",
    "            [-1,0],\n",
    "            [-1,-1]\n",
    "            ])\n",
    "\n",
    "# weights\n",
    "t = np.array([ \n",
    "            1/36,\n",
    "            1/9,\n",
    "            1/36,\n",
    "            1/9,\n",
    "            4/9,\n",
    "            1/9,\n",
    "            1/36,\n",
    "            1/9,\n",
    "            1/36\n",
    "            ])\n",
    "\n",
    "col_0 = np.array([0,1,2])\n",
    "col_1 = np.array([3,4,5])\n",
    "col_2 = np.array([6,7,8])\n",
    "\n",
    "# instantiate the cylindrical obstacle\n",
    "# obstacle = np.fromfunction(obstacle_fun(cx,cy,r),(nx, ny))\n",
    "# Example grid mask for obstacles (tunnel walls)\n",
    "\n",
    "obstacle = np.zeros((nx, ny))\n",
    "# Sets the boundary of the grid to be an obstacle\n",
    "obstacle[0, :] = True\n",
    "obstacle[-1, :] = True\n",
    "obstacle[:, 0] = True\n",
    "obstacle[:, -1] = True\n",
    "# Creates a narrow tunnel going through the middle of the grid\n",
    "obstacle[nx//2-2:nx//2+2, :] = True\n",
    "# hollows the tunnel\n",
    "obstacle[nx//2-1:nx//2+1, 1:-1] = False\n",
    "# creates an opening in the tunnel on the top right and bottom left\n",
    "obstacle[nx//2-2, -2] = False\n",
    "obstacle[nx//2+1, 1] = False\n",
    "\n",
    "obstacle = obstacle.astype(bool)\n",
    "\n",
    "# initial velocity profile\n",
    "# vel = np.fromfunction(inivel(uLB,ly),(2,nx,ny))\n",
    "vel = np.zeros((2,nx,ny))\n",
    "\n",
    "# initialize fin to equilibirum (rho = 1)\n",
    "fin = equilibrium(1,vel,v,t,nx,ny) * 0 \n",
    "\n",
    "# Sets the density fields in the middle to twice the density\n",
    "fin[0, nx//2-1:nx//2+1, :] = 2\n",
    "\n",
    "\n",
    "# Displays the environment, including the velocity, density, and obstacles as different colors\n",
    "def display(fin, vel, obstacle, nx, ny):\n",
    "    rho, u = macroscopic(fin, nx, ny, v)\n",
    "    plt.figure(figsize=(10,10))\n",
    "    plt.imshow(np.sqrt(u[0]**2+u[1]**2).T, cmap=cm.Reds, interpolation='nearest')\n",
    "    plt.imshow(obstacle.T, cmap=cm.Greys, interpolation='nearest', alpha=0.5)\n",
    "    plt.axis('off')\n",
    "    # creates legend\n",
    "    plt.legend(handles=[plt.Line2D([0], [0], color='red', lw=4, label='Velocity'),\n",
    "                        plt.Line2D([0], [0], color='grey', lw=4, label='Obstacle')],\n",
    "                loc='lower right')\n",
    "    \n",
    "    plt.show()\n",
    "\n",
    "\n",
    "  \n",
    "display(fin, vel, obstacle, nx, ny)\n"
   ]
  },
  {
   "cell_type": "code",
   "execution_count": null,
   "metadata": {},
   "outputs": [],
   "source": [
    "#==============================================================================\n",
    "#   Time-Stepping\n",
    "#==============================================================================\n",
    "t0 = ti()\n",
    "vid = VideoWriter(\"./fluid.mp4\", fps=33)\n",
    "\n",
    "wave_cell = 1\n",
    "\n",
    "max_pressure_per_time_step = []\n",
    "\n",
    "for time in tqdm(range(maxIter)):\n",
    "    # outflow boundary condition (right side) NEUMANN BC! No gradient\n",
    "    # fin[col_2,-1,:] = fin[col_2,-2,:]\n",
    "    # \n",
    "\n",
    "    # records the maximum pressure per time step\n",
    "    max_pressure_per_time_step.append(np.max(fin[1,-1,:]))\n",
    "\n",
    "    # Multiplies cell density by 1.5 along the pipe, once cell per 10 time steps\n",
    "    if time % 10 == 0:\n",
    "        fin[0, nx//2-1:nx//2+1, wave_cell] *= 1.5\n",
    "        wave_cell += 1\n",
    "        if wave_cell == ny-1:\n",
    "            wave_cell = 1\n",
    "\n",
    "    # compute macroscopic variables\n",
    "    rho,u = macroscopic(fin,nx,ny,v)\n",
    "\n",
    "    # inlet boundary condition (left wall)\n",
    "    # u[:,0,:] = vel[:,0,:]\n",
    "    # rho[0,:] = 1/(1-u[0,0,:])*( np.sum(fin[col_1,0,:], axis = 0)+\n",
    "    #                             2*np.sum(fin[col_2,0,:], axis = 0))\n",
    "\n",
    "    feq = equilibrium(rho,u,v,t,nx,ny)\n",
    "    fin[col_0,0,:] = feq[col_0,0,:] + fin[col_2,0,:]-feq[col_2,0,:]\n",
    "\n",
    "    # Collide\n",
    "    fout = fin - omega*(fin-feq)\n",
    "\n",
    "    # bounceback\n",
    "    for i in range(9):\n",
    "        fout[i,obstacle] = fin[8-i,obstacle]\n",
    "\n",
    "    # stream\n",
    "    for i in range(9):\n",
    "        # be careful with this -> numpy.roll cycles through an array by an axis\n",
    "        # and the last element becomes the first. this implements a periodic\n",
    "        # boundary in a very compact syntax, but needs to be reworked for other\n",
    "        # implementations\n",
    "        fin[i,:,:] = np.roll(  \n",
    "                          np.roll(\n",
    "                                fout[i,:,:], v[i,0], axis = 0\n",
    "                               ),\n",
    "                          v[i,1], axis = 1 \n",
    "                          )\n",
    "\n",
    "    # Output an image every 100 iterations\n",
    "    if time%5 == 0:\n",
    "        # vid.add_grid(np.sqrt(u[0]**2+u[1]**2).T, cmap = cm.Reds)\n",
    "        # sets the left corner rho to a pressure of 0.5 and the right corner to a rho of 0 to help the colormapping, stores values to be resotred\n",
    "        left_corner = [1,0,0]\n",
    "        right_corner = fin[1,-1,0]\n",
    "        fin[1,0,0] = 10\n",
    "        fin[1,-1,0] = 0\n",
    "        vid.add_grid(fin)\n",
    "        fin[1,0,0] = left_corner\n",
    "        fin[1,-1,0] = right_corner\n",
    "        # resets the left corner to a pressure of 0\n",
    "    # if (time%100 == 0):\n",
    "    #     plt.clf()\n",
    "    #     plt.imshow(np.sqrt(u[0]**2+u[1]**2).T, cmap = cm.Reds)\n",
    "    #     plt.savefig(\"vel{0:03d}.png\".format(time//100))\n",
    "tf = ti() - t0\n",
    "print(\"time to execute = \",tf)\n",
    "vid.close()\n",
    "\n",
    "# Plots the maximum pressure per time step\n",
    "plt.plot(max_pressure_per_time_step)"
   ]
  },
  {
   "cell_type": "code",
   "execution_count": null,
   "metadata": {},
   "outputs": [],
   "source": [
    "fin.shape"
   ]
  },
  {
   "cell_type": "code",
   "execution_count": null,
   "metadata": {},
   "outputs": [],
   "source": [
    "# Interactive Matplotlib for simulating\n"
   ]
  },
  {
   "attachments": {},
   "cell_type": "markdown",
   "metadata": {},
   "source": [
    "# Old"
   ]
  },
  {
   "cell_type": "code",
   "execution_count": null,
   "metadata": {},
   "outputs": [],
   "source": [
    "import numpy as np\n",
    "\n",
    "# Horiz velocity of every cell in the grid, these are placed \"in the middle of the vertical lines\" of the grid\n",
    "grid_width = 100\n",
    "grid_height = 100\n",
    "horizonal_velocities = np.zeros((grid_width, grid_height))\n",
    "vertical_velocities = np.zeros((grid_width, grid_height))\n",
    "\n",
    "# Example grid mask for sources of pressure\n",
    "sources = np.zeros((grid_width, grid_height))\n",
    "sources[48:51, 48:51] = 1\n",
    "\n",
    "# Example grid mask for obstacles (tunnel walls)\n",
    "obstacles = np.zeros((grid_width, grid_height))\n",
    "# Sets the boundary of the grid to be an obstacle\n",
    "obstacles[0, :] = True\n",
    "obstacles[-1, :] = True\n",
    "obstacles[:, 0] = True\n",
    "obstacles[:, -1] = True\n",
    "# Sets a tunnel in the middle of the grid\n",
    "obstacles[40, :] = True\n",
    "obstacles[60, :] = True\n",
    "obstacles[40, 40:60] = 0\n",
    "\n",
    "\n",
    "# Shows everything\n",
    "import matplotlib.pyplot as plt\n",
    "plt.imshow(sources)\n",
    "plt.show()\n",
    "plt.imshow(obstacles)\n",
    "plt.show()\n"
   ]
  },
  {
   "cell_type": "markdown",
   "metadata": {},
   "source": [
    "## Setting up the environment"
   ]
  },
  {
   "cell_type": "markdown",
   "metadata": {},
   "source": [
    "## Modify velocity values"
   ]
  },
  {
   "cell_type": "code",
   "execution_count": null,
   "metadata": {},
   "outputs": [],
   "source": [
    "def flow_sources(horizontal_velocities, vertical_velocities, sources, velocity, dt):\n",
    "    \"\"\"\n",
    "    Adds flow to the grid based on the sources,\n",
    "    velocities area evenly added to particles on the edges of the source cells\n",
    "    \"\"\"\n",
    "    delta_velocity = sources * velocity * dt\n",
    "    horizontal_velocities        -= delta_velocity\n",
    "    vertical_velocities          -= delta_velocity\n",
    "    horizontal_velocities[:, 1:] += delta_velocity\n",
    "    vertical_velocities[1:, :]   += delta_velocity"
   ]
  },
  {
   "cell_type": "markdown",
   "metadata": {},
   "source": [
    "## Projection (making fluid incompressible)"
   ]
  },
  {
   "cell_type": "markdown",
   "metadata": {},
   "source": [
    "#### Divergence (Total Outflow)"
   ]
  },
  {
   "cell_type": "code",
   "execution_count": null,
   "metadata": {},
   "outputs": [],
   "source": [
    "def calc_divergence(horizontal_velocities, vertical_velocities):\n",
    "    \"\"\"\n",
    "    Calculates the outflow of every cell\n",
    "    \"\"\"\n",
    "    return (horizontal_velocities[:, 1:] - horizontal_velocities) + (vertical_velocities[1:, :] - vertical_velocities)\n",
    "\n",
    "def get_n_blocked_neighbors(obstacles):\n",
    "    return np.roll(obstacles, 1, axis=0) + np.roll(obstacles, -1, axis=0) + np.roll(obstacles, 1, axis=1) + np.roll(obstacles, -1, axis=1)\n",
    "    # TODO: INCOMPLETE, stopped here, goodnight\n",
    "\n",
    "def fix_divergence(horizontal_velocities, vertical_velocities, divergence, n_blocked_neighbors):\n",
    "    \"\"\"\n",
    "    Fixes the divergence of the grid by adding velocity to the cells such that divergence is 0\n",
    "    \"\"\"\n",
    "    # The amount of velocity to add to each cell\n",
    "    delta_velocity = divergence / (4 - n_blocked_neighbors)\n",
    "    # Add the velocity to the cells\n",
    "    horizontal_velocities[:, 1:] -= delta_velocity\n",
    "    vertical_velocities[1:, :]   -= delta_velocity\n",
    "    horizontal_velocities        += delta_velocity\n",
    "    vertical_velocities          += delta_velocity"
   ]
  },
  {
   "cell_type": "code",
   "execution_count": null,
   "metadata": {},
   "outputs": [],
   "source": [
    "# displays n_blocked_neighbors\n",
    "import matplotlib.pyplot as plt\n",
    "obstacles [50,50] = 1\n",
    "plt.imshow(get_n_blocked_neighbors(obstacles))"
   ]
  },
  {
   "attachments": {},
   "cell_type": "markdown",
   "metadata": {},
   "source": [
    "### The code for applying pressure.\n",
    "\n",
    "Here mp_p0 is the array that stores the density (which is equivalent to the pressure, so I actually refer to it as pressure in the code).\n",
    "\n",
    "The arrays mp_xv1 and mp_yv1 store the x and y components of the velocity field.\n",
    "\n",
    "The function Cell(x,y) returns a cell index for a given set of x and y coordinates.\n",
    "\n",
    "The loop simply iterates over all horizontal and vertical pairs of cells, finds the difference in pressure, scales it by a constant (also scaled by time) and adds it to both cells.\n",
    "\n",
    "```C\n",
    "for (int x = 0; x < m_w-1; x++) {\n",
    "    for (int y = 0; y < m_h-1; y++) {\n",
    "        int cell = Cell(x,y);\n",
    "        float force_x =  mp_p0[cell] - mp_p0[cell+1];\n",
    "        float force_y =  mp_p0[cell] - mp_p0[cell+m_w];\n",
    "        mp_xv1[cell]     +=  a * force_x;\n",
    "        mp_xv1[cell+1]   +=  a * force_x;\n",
    "        mp_yv1[cell]     +=  a * force_y;\n",
    "        mp_yv1[cell+m_w] +=  a * force_y;\n",
    "    }\n",
    "}\n",
    "```"
   ]
  }
 ],
 "metadata": {
  "kernelspec": {
   "display_name": "cv",
   "language": "python",
   "name": "python3"
  },
  "language_info": {
   "codemirror_mode": {
    "name": "ipython",
    "version": 3
   },
   "file_extension": ".py",
   "mimetype": "text/x-python",
   "name": "python",
   "nbconvert_exporter": "python",
   "pygments_lexer": "ipython3",
   "version": "3.10.8"
  },
  "orig_nbformat": 4,
  "vscode": {
   "interpreter": {
    "hash": "6b80376bdcabbd0dbe0e705c3beaf2eeedf71afb6684f48402970e16a3ce51c7"
   }
  }
 },
 "nbformat": 4,
 "nbformat_minor": 2
}
